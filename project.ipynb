{
 "cells": [
  {
   "cell_type": "markdown",
   "id": "c4e52ee5",
   "metadata": {},
   "source": [
    "## The dataset\n",
    "\n",
    "This is a real dataset and it was downloaded using web scraping techniques. The data contains registers from fotocasa which is one of the most popular websites of real estate in Spain. Please, do not do this (web scraping) unless it is for academic purposes.\n",
    "\n",
    "The dataset was downloaded a few years ago by Henry Navarro and In no case were economic returns obtained from it.\n",
    "\n",
    "It contains thousands of data from real homes published on the web www.fotocasa.com. Your goal is to extract as much information as possible with the knowledge you have so far about data science, for example what is the most expensive home in the entire dataset?\n",
    "\n",
    "Let's start with precisely that question... Good luck!\n"
   ]
  },
  {
   "cell_type": "markdown",
   "id": "eb6e262b",
   "metadata": {},
   "source": [
    "Import libraries:"
   ]
  },
  {
   "cell_type": "code",
   "execution_count": 3,
   "id": "5eaef293",
   "metadata": {},
   "outputs": [],
   "source": [
    "import pandas as pd\n",
    "import numpy as np\n",
    "import matplotlib.pyplot as plt\n",
    "import seaborn as sb"
   ]
  },
  {
   "cell_type": "markdown",
   "id": "dd97255d",
   "metadata": {},
   "source": [
    "#### Read the dataset assets/real_estate.csv and try to visualize the table (★☆☆)"
   ]
  },
  {
   "cell_type": "code",
   "execution_count": 4,
   "id": "4b93d9c8",
   "metadata": {},
   "outputs": [
    {
     "data": {
      "text/html": [
       "<div>\n",
       "<style scoped>\n",
       "    .dataframe tbody tr th:only-of-type {\n",
       "        vertical-align: middle;\n",
       "    }\n",
       "\n",
       "    .dataframe tbody tr th {\n",
       "        vertical-align: top;\n",
       "    }\n",
       "\n",
       "    .dataframe thead th {\n",
       "        text-align: right;\n",
       "    }\n",
       "</style>\n",
       "<table border=\"1\" class=\"dataframe\">\n",
       "  <thead>\n",
       "    <tr style=\"text-align: right;\">\n",
       "      <th></th>\n",
       "      <th>Unnamed: 0</th>\n",
       "      <th>id_realEstates</th>\n",
       "      <th>isNew</th>\n",
       "      <th>realEstate_name</th>\n",
       "      <th>phone_realEstate</th>\n",
       "      <th>url_inmueble</th>\n",
       "      <th>rooms</th>\n",
       "      <th>bathrooms</th>\n",
       "      <th>surface</th>\n",
       "      <th>price</th>\n",
       "      <th>...</th>\n",
       "      <th>level4Id</th>\n",
       "      <th>level5Id</th>\n",
       "      <th>level6Id</th>\n",
       "      <th>level7Id</th>\n",
       "      <th>level8Id</th>\n",
       "      <th>accuracy</th>\n",
       "      <th>latitude</th>\n",
       "      <th>longitude</th>\n",
       "      <th>zipCode</th>\n",
       "      <th>customZone</th>\n",
       "    </tr>\n",
       "  </thead>\n",
       "  <tbody>\n",
       "    <tr>\n",
       "      <th>0</th>\n",
       "      <td>1</td>\n",
       "      <td>153771986</td>\n",
       "      <td>False</td>\n",
       "      <td>ferrari 57 inmobiliaria</td>\n",
       "      <td>912177526.0</td>\n",
       "      <td>https://www.fotocasa.es/es/comprar/vivienda/ma...</td>\n",
       "      <td>3.0</td>\n",
       "      <td>2.0</td>\n",
       "      <td>103.0</td>\n",
       "      <td>195000</td>\n",
       "      <td>...</td>\n",
       "      <td>0</td>\n",
       "      <td>0</td>\n",
       "      <td>0</td>\n",
       "      <td>0</td>\n",
       "      <td>0</td>\n",
       "      <td>0</td>\n",
       "      <td>40,2948276786438</td>\n",
       "      <td>-3,44402412135624</td>\n",
       "      <td>NaN</td>\n",
       "      <td>NaN</td>\n",
       "    </tr>\n",
       "    <tr>\n",
       "      <th>1</th>\n",
       "      <td>2</td>\n",
       "      <td>153867863</td>\n",
       "      <td>False</td>\n",
       "      <td>tecnocasa fuenlabrada ferrocarril</td>\n",
       "      <td>916358736.0</td>\n",
       "      <td>https://www.fotocasa.es/es/comprar/vivienda/ma...</td>\n",
       "      <td>3.0</td>\n",
       "      <td>1.0</td>\n",
       "      <td>NaN</td>\n",
       "      <td>89000</td>\n",
       "      <td>...</td>\n",
       "      <td>0</td>\n",
       "      <td>0</td>\n",
       "      <td>0</td>\n",
       "      <td>0</td>\n",
       "      <td>0</td>\n",
       "      <td>1</td>\n",
       "      <td>40,28674</td>\n",
       "      <td>-3,79351</td>\n",
       "      <td>NaN</td>\n",
       "      <td>NaN</td>\n",
       "    </tr>\n",
       "    <tr>\n",
       "      <th>2</th>\n",
       "      <td>3</td>\n",
       "      <td>153430440</td>\n",
       "      <td>False</td>\n",
       "      <td>look find boadilla</td>\n",
       "      <td>916350408.0</td>\n",
       "      <td>https://www.fotocasa.es/es/comprar/vivienda/ma...</td>\n",
       "      <td>2.0</td>\n",
       "      <td>2.0</td>\n",
       "      <td>99.0</td>\n",
       "      <td>390000</td>\n",
       "      <td>...</td>\n",
       "      <td>0</td>\n",
       "      <td>0</td>\n",
       "      <td>0</td>\n",
       "      <td>0</td>\n",
       "      <td>0</td>\n",
       "      <td>0</td>\n",
       "      <td>40,4115646786438</td>\n",
       "      <td>-3,90662252135624</td>\n",
       "      <td>NaN</td>\n",
       "      <td>NaN</td>\n",
       "    </tr>\n",
       "    <tr>\n",
       "      <th>3</th>\n",
       "      <td>4</td>\n",
       "      <td>152776331</td>\n",
       "      <td>False</td>\n",
       "      <td>tecnocasa fuenlabrada ferrocarril</td>\n",
       "      <td>916358736.0</td>\n",
       "      <td>https://www.fotocasa.es/es/comprar/vivienda/ma...</td>\n",
       "      <td>3.0</td>\n",
       "      <td>1.0</td>\n",
       "      <td>86.0</td>\n",
       "      <td>89000</td>\n",
       "      <td>...</td>\n",
       "      <td>0</td>\n",
       "      <td>0</td>\n",
       "      <td>0</td>\n",
       "      <td>0</td>\n",
       "      <td>0</td>\n",
       "      <td>0</td>\n",
       "      <td>40,2853785786438</td>\n",
       "      <td>-3,79508142135624</td>\n",
       "      <td>NaN</td>\n",
       "      <td>NaN</td>\n",
       "    </tr>\n",
       "    <tr>\n",
       "      <th>4</th>\n",
       "      <td>5</td>\n",
       "      <td>153180188</td>\n",
       "      <td>False</td>\n",
       "      <td>ferrari 57 inmobiliaria</td>\n",
       "      <td>912177526.0</td>\n",
       "      <td>https://www.fotocasa.es/es/comprar/vivienda/ma...</td>\n",
       "      <td>2.0</td>\n",
       "      <td>2.0</td>\n",
       "      <td>106.0</td>\n",
       "      <td>172000</td>\n",
       "      <td>...</td>\n",
       "      <td>0</td>\n",
       "      <td>0</td>\n",
       "      <td>0</td>\n",
       "      <td>0</td>\n",
       "      <td>0</td>\n",
       "      <td>0</td>\n",
       "      <td>40,2998774864376</td>\n",
       "      <td>-3,45226301356237</td>\n",
       "      <td>NaN</td>\n",
       "      <td>NaN</td>\n",
       "    </tr>\n",
       "  </tbody>\n",
       "</table>\n",
       "<p>5 rows × 37 columns</p>\n",
       "</div>"
      ],
      "text/plain": [
       "   Unnamed: 0  id_realEstates  isNew                    realEstate_name  \\\n",
       "0           1       153771986  False            ferrari 57 inmobiliaria   \n",
       "1           2       153867863  False  tecnocasa fuenlabrada ferrocarril   \n",
       "2           3       153430440  False                 look find boadilla   \n",
       "3           4       152776331  False  tecnocasa fuenlabrada ferrocarril   \n",
       "4           5       153180188  False            ferrari 57 inmobiliaria   \n",
       "\n",
       "   phone_realEstate                                       url_inmueble  rooms  \\\n",
       "0       912177526.0  https://www.fotocasa.es/es/comprar/vivienda/ma...    3.0   \n",
       "1       916358736.0  https://www.fotocasa.es/es/comprar/vivienda/ma...    3.0   \n",
       "2       916350408.0  https://www.fotocasa.es/es/comprar/vivienda/ma...    2.0   \n",
       "3       916358736.0  https://www.fotocasa.es/es/comprar/vivienda/ma...    3.0   \n",
       "4       912177526.0  https://www.fotocasa.es/es/comprar/vivienda/ma...    2.0   \n",
       "\n",
       "   bathrooms  surface   price  ... level4Id level5Id level6Id level7Id  \\\n",
       "0        2.0    103.0  195000  ...        0        0        0        0   \n",
       "1        1.0      NaN   89000  ...        0        0        0        0   \n",
       "2        2.0     99.0  390000  ...        0        0        0        0   \n",
       "3        1.0     86.0   89000  ...        0        0        0        0   \n",
       "4        2.0    106.0  172000  ...        0        0        0        0   \n",
       "\n",
       "  level8Id accuracy          latitude          longitude zipCode customZone  \n",
       "0        0        0  40,2948276786438  -3,44402412135624     NaN        NaN  \n",
       "1        0        1          40,28674           -3,79351     NaN        NaN  \n",
       "2        0        0  40,4115646786438  -3,90662252135624     NaN        NaN  \n",
       "3        0        0  40,2853785786438  -3,79508142135624     NaN        NaN  \n",
       "4        0        0  40,2998774864376  -3,45226301356237     NaN        NaN  \n",
       "\n",
       "[5 rows x 37 columns]"
      ]
     },
     "execution_count": 4,
     "metadata": {},
     "output_type": "execute_result"
    }
   ],
   "source": [
    "df = pd.read_csv('assets/real_estate.csv', sep=';')\n",
    "df.head()"
   ]
  },
  {
   "cell_type": "code",
   "execution_count": 5,
   "id": "912c439d",
   "metadata": {},
   "outputs": [
    {
     "name": "stdout",
     "output_type": "stream",
     "text": [
      "<class 'pandas.core.frame.DataFrame'>\n",
      "RangeIndex: 15335 entries, 0 to 15334\n",
      "Data columns (total 37 columns):\n",
      " #   Column            Non-Null Count  Dtype  \n",
      "---  ------            --------------  -----  \n",
      " 0   Unnamed: 0        15335 non-null  int64  \n",
      " 1   id_realEstates    15335 non-null  int64  \n",
      " 2   isNew             15335 non-null  bool   \n",
      " 3   realEstate_name   15325 non-null  object \n",
      " 4   phone_realEstate  14541 non-null  float64\n",
      " 5   url_inmueble      15335 non-null  object \n",
      " 6   rooms             14982 non-null  float64\n",
      " 7   bathrooms         14990 non-null  float64\n",
      " 8   surface           14085 non-null  float64\n",
      " 9   price             15335 non-null  int64  \n",
      " 10  date              15335 non-null  object \n",
      " 11  description       15193 non-null  object \n",
      " 12  address           15335 non-null  object \n",
      " 13  country           15335 non-null  object \n",
      " 14  level1            15335 non-null  object \n",
      " 15  level2            15335 non-null  object \n",
      " 16  level3            15335 non-null  object \n",
      " 17  level4            8692 non-null   object \n",
      " 18  level5            15335 non-null  object \n",
      " 19  level6            708 non-null    object \n",
      " 20  level7            13058 non-null  object \n",
      " 21  level8            6756 non-null   object \n",
      " 22  upperLevel        15335 non-null  object \n",
      " 23  countryId         15335 non-null  int64  \n",
      " 24  level1Id          15335 non-null  int64  \n",
      " 25  level2Id          15335 non-null  int64  \n",
      " 26  level3Id          15335 non-null  int64  \n",
      " 27  level4Id          15335 non-null  int64  \n",
      " 28  level5Id          15335 non-null  int64  \n",
      " 29  level6Id          15335 non-null  int64  \n",
      " 30  level7Id          15335 non-null  int64  \n",
      " 31  level8Id          15335 non-null  int64  \n",
      " 32  accuracy          15335 non-null  int64  \n",
      " 33  latitude          15335 non-null  object \n",
      " 34  longitude         15335 non-null  object \n",
      " 35  zipCode           0 non-null      float64\n",
      " 36  customZone        0 non-null      float64\n",
      "dtypes: bool(1), float64(6), int64(13), object(17)\n",
      "memory usage: 4.2+ MB\n"
     ]
    }
   ],
   "source": [
    "df.info()"
   ]
  },
  {
   "cell_type": "markdown",
   "id": "40631cd6",
   "metadata": {},
   "source": [
    "#### What is the most expensive home in the dataset? (★☆☆)"
   ]
  },
  {
   "cell_type": "code",
   "execution_count": 24,
   "id": "a56a921f",
   "metadata": {},
   "outputs": [
    {
     "name": "stdout",
     "output_type": "stream",
     "text": [
      "The most expensie home in the dataset is: 8500000\n"
     ]
    }
   ],
   "source": [
    "print(\"The most expensie home in the dataset is: \" + str(df['price'].max()))  "
   ]
  },
  {
   "cell_type": "markdown",
   "id": "0a708990",
   "metadata": {},
   "source": [
    "#### What is cheapest home in the dataset? (★☆☆)"
   ]
  },
  {
   "cell_type": "code",
   "execution_count": 25,
   "id": "477e01f4",
   "metadata": {},
   "outputs": [
    {
     "name": "stdout",
     "output_type": "stream",
     "text": [
      "The cheapest home in the dataset is: 600\n"
     ]
    }
   ],
   "source": [
    "df = df[df['price']>0]\n",
    "print(\"The cheapest home in the dataset is: \" + str(df[\"price\"].min()))\n"
   ]
  },
  {
   "cell_type": "markdown",
   "id": "0b16cd77",
   "metadata": {},
   "source": [
    "#### What is the biggest and the smallest home in the dataset? (★☆☆)"
   ]
  },
  {
   "cell_type": "code",
   "execution_count": 27,
   "id": "4d9b5975",
   "metadata": {},
   "outputs": [
    {
     "name": "stdout",
     "output_type": "stream",
     "text": [
      "Biggest home in the dataset is: 249000.0\n"
     ]
    }
   ],
   "source": [
    "print(\"Biggest home in the dataset is: \" + str(df[\"surface\"].max()))"
   ]
  },
  {
   "cell_type": "code",
   "execution_count": 28,
   "id": "681229fe",
   "metadata": {},
   "outputs": [
    {
     "name": "stdout",
     "output_type": "stream",
     "text": [
      "Smallest home in the dataset is: 15.0\n"
     ]
    }
   ],
   "source": [
    "print(\"Smallest home in the dataset is: \" + str(df[\"surface\"].min())) "
   ]
  },
  {
   "cell_type": "markdown",
   "id": "782d4c77",
   "metadata": {},
   "source": [
    "#### How many populations (level5) the dataset contains? (★☆☆)"
   ]
  },
  {
   "cell_type": "code",
   "execution_count": 30,
   "id": "5dbe1a08",
   "metadata": {},
   "outputs": [
    {
     "name": "stdout",
     "output_type": "stream",
     "text": [
      "The dataset contains 168 populations\n"
     ]
    }
   ],
   "source": [
    "level_5_unique = df['level5'].unique()\n",
    "print(\"The dataset contains \" + str(len(level_5_unique)) + \" populations\")"
   ]
  },
  {
   "cell_type": "markdown",
   "id": "48d48f01",
   "metadata": {},
   "source": [
    "#### Does the dataset contain NAs? (★☆☆)\n"
   ]
  },
  {
   "cell_type": "code",
   "execution_count": 18,
   "id": "3ed233e7",
   "metadata": {},
   "outputs": [
    {
     "data": {
      "text/plain": [
       "Unnamed: 0              0\n",
       "id_realEstates          0\n",
       "isNew                   0\n",
       "realEstate_name        10\n",
       "phone_realEstate      721\n",
       "url_inmueble            0\n",
       "rooms                 322\n",
       "bathrooms             295\n",
       "surface                 0\n",
       "price                   0\n",
       "date                    0\n",
       "description           129\n",
       "address                 0\n",
       "country                 0\n",
       "level1                  0\n",
       "level2                  0\n",
       "level3                  0\n",
       "level4               6237\n",
       "level5                  0\n",
       "level6              13408\n",
       "level7               2024\n",
       "level8               7749\n",
       "upperLevel              0\n",
       "countryId               0\n",
       "level1Id                0\n",
       "level2Id                0\n",
       "level3Id                0\n",
       "level4Id                0\n",
       "level5Id                0\n",
       "level6Id                0\n",
       "level7Id                0\n",
       "level8Id                0\n",
       "accuracy                0\n",
       "latitude                0\n",
       "longitude               0\n",
       "zipCode             14085\n",
       "customZone          14085\n",
       "dtype: int64"
      ]
     },
     "execution_count": 18,
     "metadata": {},
     "output_type": "execute_result"
    }
   ],
   "source": [
    "df.isna().sum()"
   ]
  },
  {
   "cell_type": "markdown",
   "id": "4fa39382",
   "metadata": {},
   "source": [
    "#### Delete the NAs of the dataset, if applicable (★★☆)"
   ]
  },
  {
   "cell_type": "code",
   "execution_count": 29,
   "id": "c97757ec",
   "metadata": {},
   "outputs": [],
   "source": [
    "#Acá no usamos dropna porque hay muchos missing y la función dropna borra las rows en las que hay missing, en este caso nos quedamos sin datos casi.\n",
    "#Lo que sí se puede hacer es reemplazar los na por otros valores, por ejemplo:\n",
    "# df['level6'].fillna(\"sin-determinar\", inplace=True) #Reemplaza los NA en \"level6\" con \"sin-determinar\"\n",
    "# df['rooms'].fillna(0, inplace=True) #Reemplaza los NA en \"rooms\" con 0\n"
   ]
  },
  {
   "cell_type": "markdown",
   "id": "0e5f76de",
   "metadata": {},
   "source": [
    "#### What is the mean of prices in the population (level5) of \"Arroyomolinos (Madrid)\"? (★★☆)"
   ]
  },
  {
   "cell_type": "code",
   "execution_count": 31,
   "id": "327f7adb",
   "metadata": {},
   "outputs": [
    {
     "name": "stdout",
     "output_type": "stream",
     "text": [
      "Mean of Arroyomolinos prices is: 298905.1777777778\n"
     ]
    }
   ],
   "source": [
    "df_arroyo = df[df['level5'] == \"Arroyomolinos (Madrid)\"] \n",
    "prices_arroyo_sin_0 = df_arroyo[df_arroyo['price'] > 0] \n",
    "print(\"Mean of Arroyomolinos prices is: \" + str(prices_arroyo_sin_0['price'].mean()))"
   ]
  },
  {
   "cell_type": "markdown",
   "id": "89b548e3",
   "metadata": {},
   "source": [
    "#### Plot the histogram of prices for the population (level5) of \"Arroyomolinos (Madrid)\" and explain what you observe (★★☆)"
   ]
  },
  {
   "cell_type": "code",
   "execution_count": 38,
   "id": "2ba51bf7",
   "metadata": {},
   "outputs": [
    {
     "data": {
      "image/png": "[encoded data removed]",
      "text/plain": [
       "<Figure size 432x288 with 1 Axes>"
      ]
     },
     "metadata": {
      "needs_background": "light"
     },
     "output_type": "display_data"
    },
    {
     "name": "stdout",
     "output_type": "stream",
     "text": [
      "\n",
      "    La mayoría de las casas de Arroyomolinos se concentran en el entorno de los 250.000 y 350.000 dólares.\n",
      "    La distribución parecería estar sesgada a la izquierda.\n",
      "    \n"
     ]
    }
   ],
   "source": [
    "df_arroyo = df[df['level5'] == \"Arroyomolinos (Madrid)\"] \n",
    "prices_arroyo_sin_0 = df_arroyo[df_arroyo['price'] > 0] \n",
    "plt.hist(prices_arroyo_sin_0['price']) #Lo ploteo\n",
    "plt.xlabel('Prices')\n",
    "plt.ylabel('Level5')\n",
    "plt.title('Histogram of prices for Arroyomolinos population')\n",
    "plt.show()\n",
    "com = \\\n",
    "    \"\"\"\n",
    "    La mayoría de las casas de Arroyomolinos se concentran en el entorno de los 250.000 y 350.000 dólares.\n",
    "    La distribución parecería estar sesgada a la izquierda.\n",
    "    \"\"\"\n",
    "print(com)\n",
    "\n"
   ]
  },
  {
   "cell_type": "markdown",
   "id": "2011de55",
   "metadata": {},
   "source": [
    "Now let's work with the \"south belt\" of madrid. Make a subsetting that contains the following populations (level5): \"Fuenlabrada\",\"Leganés\",\"Getafe\",\"Alcorcón\" "
   ]
  },
  {
   "cell_type": "code",
   "execution_count": 39,
   "id": "5280d0cb",
   "metadata": {},
   "outputs": [
    {
     "name": "stdout",
     "output_type": "stream",
     "text": [
      "<class 'pandas.core.frame.DataFrame'>\n",
      "Int64Index: 895 entries, 1 to 15325\n",
      "Data columns (total 37 columns):\n",
      " #   Column            Non-Null Count  Dtype  \n",
      "---  ------            --------------  -----  \n",
      " 0   Unnamed: 0        895 non-null    int64  \n",
      " 1   id_realEstates    895 non-null    int64  \n",
      " 2   isNew             895 non-null    bool   \n",
      " 3   realEstate_name   895 non-null    object \n",
      " 4   phone_realEstate  843 non-null    float64\n",
      " 5   url_inmueble      895 non-null    object \n",
      " 6   rooms             890 non-null    float64\n",
      " 7   bathrooms         885 non-null    float64\n",
      " 8   surface           775 non-null    float64\n",
      " 9   price             895 non-null    int64  \n",
      " 10  date              895 non-null    object \n",
      " 11  description       890 non-null    object \n",
      " 12  address           895 non-null    object \n",
      " 13  country           895 non-null    object \n",
      " 14  level1            895 non-null    object \n",
      " 15  level2            895 non-null    object \n",
      " 16  level3            895 non-null    object \n",
      " 17  level4            895 non-null    object \n",
      " 18  level5            895 non-null    object \n",
      " 19  level6            0 non-null      object \n",
      " 20  level7            895 non-null    object \n",
      " 21  level8            83 non-null     object \n",
      " 22  upperLevel        895 non-null    object \n",
      " 23  countryId         895 non-null    int64  \n",
      " 24  level1Id          895 non-null    int64  \n",
      " 25  level2Id          895 non-null    int64  \n",
      " 26  level3Id          895 non-null    int64  \n",
      " 27  level4Id          895 non-null    int64  \n",
      " 28  level5Id          895 non-null    int64  \n",
      " 29  level6Id          895 non-null    int64  \n",
      " 30  level7Id          895 non-null    int64  \n",
      " 31  level8Id          895 non-null    int64  \n",
      " 32  accuracy          895 non-null    int64  \n",
      " 33  latitude          895 non-null    object \n",
      " 34  longitude         895 non-null    object \n",
      " 35  zipCode           0 non-null      float64\n",
      " 36  customZone        0 non-null      float64\n",
      "dtypes: bool(1), float64(6), int64(13), object(17)\n",
      "memory usage: 259.6+ KB\n"
     ]
    }
   ],
   "source": [
    "sbelt = df[(df['level5'] == \"Fuenlabrada\") | (df['level5'] == \"Leganés\") | (df['level5'] == \"Getafe\") | (df['level5'] == \"Alcorcón\")]\n",
    "sbelt.info()"
   ]
  },
  {
   "cell_type": "markdown",
   "id": "090a6a3e",
   "metadata": {},
   "source": [
    "#### Make a bar plot of the median of prices (★★★) "
   ]
  },
  {
   "cell_type": "code",
   "execution_count": 40,
   "id": "68aec11c",
   "metadata": {},
   "outputs": [
    {
     "data": {
      "image/png": "[encoded data removed]",
      "text/plain": [
       "<Figure size 432x288 with 1 Axes>"
      ]
     },
     "metadata": {
      "needs_background": "light"
     },
     "output_type": "display_data"
    }
   ],
   "source": [
    "from statistics import median\n",
    "sbelt = df[(df['level5'] == \"Fuenlabrada\") | (df['level5'] == \"Leganés\") | (df['level5'] == \"Getafe\") | (df['level5'] == \"Alcorcón\")]\n",
    "sb.barplot(x = sbelt['level5'], y = sbelt['price'], estimator = median)\n",
    "plt.show()"
   ]
  },
  {
   "cell_type": "markdown",
   "id": "18f67373",
   "metadata": {},
   "source": [
    "#### Calculate the sample mean and variance of the variables: price, rooms, surface area and bathrooms (★★★) "
   ]
  },
  {
   "cell_type": "code",
   "execution_count": 41,
   "id": "8d068061",
   "metadata": {},
   "outputs": [
    {
     "name": "stdout",
     "output_type": "stream",
     "text": [
      "Mean:\n",
      "price        226085.691620\n",
      "rooms             3.023596\n",
      "surface         111.298065\n",
      "bathrooms         1.627119\n",
      "dtype: float64\n",
      "Variance:\n",
      "price        1.444463e+10\n",
      "rooms        7.204775e-01\n",
      "surface      4.275920e+03\n",
      "bathrooms    5.757343e-01\n",
      "dtype: float64\n"
     ]
    }
   ],
   "source": [
    "variables = sbelt[['price', 'rooms', 'surface', 'bathrooms']]\n",
    "print(\"Mean:\")\n",
    "print(variables.mean()) \n",
    "print(\"Variance:\")\n",
    "print(variables.var())"
   ]
  },
  {
   "cell_type": "markdown",
   "id": "95cfde61",
   "metadata": {},
   "source": [
    "#### What is the most expensive home of each population? (★★☆) "
   ]
  },
  {
   "cell_type": "code",
   "execution_count": 5,
   "id": "1c29f78c",
   "metadata": {},
   "outputs": [
    {
     "data": {
      "text/plain": [
       "level5\n",
       "Alcorcón        950000\n",
       "Fuenlabrada     490000\n",
       "Getafe         1050000\n",
       "Leganés         650000\n",
       "Name: price, dtype: int64"
      ]
     },
     "execution_count": 5,
     "metadata": {},
     "output_type": "execute_result"
    }
   ],
   "source": [
    "sbelt.groupby('level5')['price'].agg('max')"
   ]
  },
  {
   "cell_type": "markdown",
   "id": "ea67579b",
   "metadata": {},
   "source": [
    "#### Normalize the variable of prices for each population and plot the 4 histograms in the same plot (★★★) "
   ]
  },
  {
   "cell_type": "code",
   "execution_count": 47,
   "id": "385ad99c",
   "metadata": {},
   "outputs": [
    {
     "data": {
      "image/png": "[encoded data removed]",
      "text/plain": [
       "<Figure size 432x288 with 1 Axes>"
      ]
     },
     "metadata": {
      "needs_background": "light"
     },
     "output_type": "display_data"
    }
   ],
   "source": [
    "sbelt_fuen = sbelt[(sbelt['level5'] == \"Fuenlabrada\")]\n",
    "sbelt_leg = sbelt[(sbelt['level5'] == \"Leganés\")]\n",
    "sbelt_ge = sbelt[(sbelt['level5'] == \"Getafe\")]\n",
    "sbelt_alc = sbelt[(sbelt['level5'] == \"Alcorcón\")] \n",
    "\n",
    "nfuen=(sbelt_fuen['price']-np.nanmean(sbelt_fuen['price']))/np.nanstd(sbelt_fuen['price'])\n",
    "nleg=(sbelt_leg['price']-np.nanmean(sbelt_leg['price']))/np.nanstd(sbelt_leg['price'])\n",
    "nge=(sbelt_ge['price']-np.nanmean(sbelt_ge['price']))/np.nanstd(sbelt_ge['price'])\n",
    "nalc=(sbelt_alc['price']-np.nanmean(sbelt_alc['price']))/np.nanstd(sbelt_alc['price'])\n",
    "\n",
    "plt.hist([nfuen, nleg, nge, nalc])\n",
    "plt.title(\"Prices for each population\")\n",
    "plt.show()\n",
    "\n",
    "#Couldn't figure out how to add color labels"
   ]
  },
  {
   "cell_type": "markdown",
   "id": "2ec1bd5c",
   "metadata": {},
   "source": [
    "#### Make a plot of the coordinates (lat and long) of the south belt of Madrid by color of each population (★★★★) \n",
    "This is a extremely hard exercise and we highly recommend to do it at the end of everything"
   ]
  },
  {
   "cell_type": "code",
   "execution_count": 42,
   "id": "312aac99",
   "metadata": {},
   "outputs": [
    {
     "data": {
      "application/vnd.jupyter.widget-view+json": {
       "model_id": "16aeac9088954b4da2e8b3479617bfbc",
       "version_major": 2,
       "version_minor": 0
      },
      "text/plain": [
       "Map(center=[60, -2.2], controls=(ZoomControl(options=['position', 'zoom_in_text', 'zoom_in_title', 'zoom_out_t…"
      ]
     },
     "metadata": {},
     "output_type": "display_data"
    }
   ],
   "source": [
    "# Run in console the following command before run the rest of code:\n",
    "# jupyter nbextension enable --py --sys-prefix ipyleaflet\n",
    "\n",
    "from ipyleaflet import Map, basemaps\n",
    "\n",
    "# Map centred on (60 degrees latitude et -2.2 degrees longitude)\n",
    "# Latitude, longitude\n",
    "map = Map(center = (60, -2.2), zoom = 2, min_zoom = 1, max_zoom = 20, \n",
    "    basemap=basemaps.Stamen.Terrain)\n",
    "map"
   ]
  },
  {
   "cell_type": "code",
   "execution_count": 45,
   "id": "f7931ec0",
   "metadata": {},
   "outputs": [
    {
     "data": {
      "application/vnd.jupyter.widget-view+json": {
       "model_id": "16aeac9088954b4da2e8b3479617bfbc",
       "version_major": 2,
       "version_minor": 0
      },
      "text/plain": [
       "Map(center=[60, -2.2], controls=(ZoomControl(options=['position', 'zoom_in_text', 'zoom_in_title', 'zoom_out_t…"
      ]
     },
     "metadata": {},
     "output_type": "display_data"
    }
   ],
   "source": [
    "from ipyleaflet import Map, GeoJSON, GeoData\n",
    "import geopandas\n",
    "\n",
    "zone = sbelt['level5'].unique().tolist()\n",
    "colors = np.array(['#458B74','#E3CF57','#FF9912','#BF3EFF'])\n",
    "\n",
    "dt = sbelt.copy()\n",
    "\n",
    "dt['latitude'] = dt['latitude'].str.replace(',' , '.').astype(float)\n",
    "dt['longitude'] = dt['longitude'].str.replace(',' , '.').astype(float)\n",
    "\n",
    "for i, x in enumerate(zone):\n",
    "    z=dt.loc[dt['level5']==x]\n",
    "\n",
    "    gdf = geopandas.GeoDataFrame(z, geometry=geopandas.points_from_xy(z.longitude, z.latitude))\n",
    "    \n",
    "    geo_data = GeoData(geo_dataframe = gdf,\n",
    "        style={'color': 'black', 'radius':8, 'fillColor': colors[i], 'opacity':0.5, 'weight':1.9, 'dashArray':'2', 'fillOpacity':0.6},\n",
    "        hover_style={'fillColor': 'red' , 'fillOpacity': 0.2},\n",
    "        point_style={'radius': 5, 'color': 'red', 'fillOpacity': 0.8, 'fillColor': 'blue', 'weight': 3},\n",
    "        name = 'Release')\n",
    "    map.add_layer(geo_data)\n",
    "map"
   ]
  },
  {
   "cell_type": "markdown",
   "id": "b22874b7",
   "metadata": {},
   "source": [
    "#### What can you say about the price per square meter between the towns of Getafe and Alcorcón?"
   ]
  },
  {
   "cell_type": "code",
   "execution_count": 50,
   "id": "e0ef506b",
   "metadata": {},
   "outputs": [
    {
     "name": "stdout",
     "output_type": "stream",
     "text": [
      "Price per square meter in Getafe is: 2660.588632351414\n",
      "Price per square meter in Alcorcón is: 2385.717404355182\n",
      "Prices are a little bit higher in Getafe\n"
     ]
    }
   ],
   "source": [
    "print(\"Price per square meter in Getafe is: \" + str(np.sum(sbelt_ge['price'])/np.sum(sbelt_ge['surface']))) \n",
    "print(\"Price per square meter in Alcorcón is: \" + str(np.sum(sbelt_alc['price'])/np.sum(sbelt_alc['surface'])))\n",
    "print(\"Prices are a little bit higher in Getafe\")"
   ]
  },
  {
   "cell_type": "markdown",
   "id": "a4376b3f",
   "metadata": {},
   "source": [
    "#### Reload the data, is the average of \"Valdemorillo\" and \"Galapagar\" prices the same?"
   ]
  },
  {
   "cell_type": "code",
   "execution_count": 54,
   "id": "37dbaf65",
   "metadata": {},
   "outputs": [
    {
     "name": "stdout",
     "output_type": "stream",
     "text": [
      "level5\n",
      "Galapagar       360063.202381\n",
      "Valdemorillo    363860.293103\n",
      "Name: price, dtype: float64\n",
      "Average of prices is not the same, they are higher in Valdemorillo\n"
     ]
    }
   ],
   "source": [
    "valdeygala = df[(df['level5'] == \"Valdemorillo\") | (df['level5'] == \"Galapagar\")]\n",
    "print(valdeygala.groupby('level5')['price'].mean())\n",
    "print(\"Average of prices is not the same, they are higher in Valdemorillo\")"
   ]
  },
  {
   "cell_type": "markdown",
   "id": "b6af45ec",
   "metadata": {},
   "source": [
    "#### What happens if we do the same analysis for price/m2 (★★☆) "
   ]
  },
  {
   "cell_type": "code",
   "execution_count": 56,
   "id": "8231d73e",
   "metadata": {},
   "outputs": [
    {
     "name": "stdout",
     "output_type": "stream",
     "text": [
      "level5\n",
      "Galapagar       1606.324030\n",
      "Valdemorillo    1317.950211\n",
      "Name: pricem2, dtype: float64\n",
      "Average is not the same. Actually, the difference becomes bigger.\n"
     ]
    }
   ],
   "source": [
    "df['pricem2'] = df['price'] / df['surface']\n",
    "valdeygala = df[(df['level5'] == \"Valdemorillo\") | (df['level5'] == \"Galapagar\")]\n",
    "print(valdeygala.groupby('level5')['pricem2'].mean())\n",
    "print(\"Average is not the same. Actually, the difference becomes bigger.\")"
   ]
  },
  {
   "cell_type": "markdown",
   "id": "2d40e202",
   "metadata": {},
   "source": [
    "#### Could you say there is a relation between surface and price? (★★☆) \n",
    "Hint: make a scatter plot."
   ]
  },
  {
   "cell_type": "code",
   "execution_count": 70,
   "id": "405462e1",
   "metadata": {},
   "outputs": [
    {
     "data": {
      "image/png": "[encoded data removed]",
      "text/plain": [
       "<Figure size 432x288 with 1 Axes>"
      ]
     },
     "metadata": {
      "needs_background": "light"
     },
     "output_type": "display_data"
    },
    {
     "name": "stdout",
     "output_type": "stream",
     "text": [
      "There seems to be a positive correlation between price and surface.\n"
     ]
    }
   ],
   "source": [
    "x = df['surface'][:4000]\n",
    "y = df['price'][:4000]\n",
    "\n",
    "plt.scatter(x, y)\n",
    "plt.show()\n",
    "\n",
    "print(\"There seems to be a positive correlation between price and surface.\")"
   ]
  },
  {
   "cell_type": "markdown",
   "id": "3275db77",
   "metadata": {},
   "source": [
    "#### Make the same plot for 4 different populations (level5) and rearrange them on the same graph? (★★☆) \n",
    "Hint: make a scatter plot of each population using subplots."
   ]
  },
  {
   "cell_type": "code",
   "execution_count": 22,
   "id": "e08292ff",
   "metadata": {},
   "outputs": [
    {
     "data": {
      "text/plain": [
       "Text(0.5, 1.0, 'Alcorcón')"
      ]
     },
     "execution_count": 22,
     "metadata": {},
     "output_type": "execute_result"
    },
    {
     "data": {
      "image/png": "[encoded data removed]",
      "text/plain": [
       "<Figure size 432x288 with 4 Axes>"
      ]
     },
     "metadata": {
      "needs_background": "light"
     },
     "output_type": "display_data"
    }
   ],
   "source": [
    "sbelt_fuen = sbelt[(sbelt['level5'] == \"Fuenlabrada\")]\n",
    "sbelt_leg = sbelt[(sbelt['level5'] == \"Leganés\")]\n",
    "sbelt_ge = sbelt[(sbelt['level5'] == \"Getafe\")]\n",
    "sbelt_alc = sbelt[(sbelt['level5'] == \"Alcorcón\")] \n",
    "\n",
    "fig, ((ax1, ax2), (ax3, ax4)) = plt.subplots(2, 2)\n",
    "fig.tight_layout()\n",
    "s1 = sbelt_fuen['surface']\n",
    "p1 = sbelt_fuen['price']\n",
    "s2 = sbelt_leg['surface']\n",
    "p2 = sbelt_leg['price']\n",
    "s3 = sbelt_ge['surface']\n",
    "p3 = sbelt_ge['price']\n",
    "s4 = sbelt_alc['surface']\n",
    "p4 = sbelt_alc['price']\n",
    "\n",
    "ax1.scatter(s1, p1)\n",
    "ax2.scatter(s2, p2)\n",
    "ax3.scatter(s3, p3)\n",
    "ax4.scatter(s4, p4)\n",
    "\n",
    "ax1.set_title('Fuenlabrada')\n",
    "ax2.set_title('Leganés')\n",
    "ax3.set_title('Getafe')\n",
    "ax4.set_title('Alcorcón')"
   ]
  },
  {
   "cell_type": "markdown",
   "id": "522c6bd9",
   "metadata": {},
   "source": [
    "#### How many  real estate agencies the dataset contains? (★★☆) "
   ]
  },
  {
   "cell_type": "code",
   "execution_count": 58,
   "id": "014ec6c8",
   "metadata": {},
   "outputs": [
    {
     "name": "stdout",
     "output_type": "stream",
     "text": [
      "The dataset contains 14160 real estate agencies.\n"
     ]
    }
   ],
   "source": [
    "realestategroup = df.groupby(['id_realEstates'])\n",
    "print(\"The dataset contains \" + str(len(realestategroup)) + \" real estate agencies.\")"
   ]
  },
  {
   "cell_type": "markdown",
   "id": "899a101e",
   "metadata": {},
   "source": [
    "#### What is the population (level 5) that contains the most houses? (★★☆) "
   ]
  },
  {
   "cell_type": "code",
   "execution_count": 69,
   "id": "9e8b34ba",
   "metadata": {},
   "outputs": [
    {
     "name": "stdout",
     "output_type": "stream",
     "text": [
      "Population with most houses is Madrid Capital.\n"
     ]
    },
    {
     "data": {
      "text/html": [
       "<div>\n",
       "<style scoped>\n",
       "    .dataframe tbody tr th:only-of-type {\n",
       "        vertical-align: middle;\n",
       "    }\n",
       "\n",
       "    .dataframe tbody tr th {\n",
       "        vertical-align: top;\n",
       "    }\n",
       "\n",
       "    .dataframe thead th {\n",
       "        text-align: right;\n",
       "    }\n",
       "</style>\n",
       "<table border=\"1\" class=\"dataframe\">\n",
       "  <thead>\n",
       "    <tr style=\"text-align: right;\">\n",
       "      <th></th>\n",
       "      <th>Unnamed: 0</th>\n",
       "      <th>id_realEstates</th>\n",
       "      <th>isNew</th>\n",
       "      <th>realEstate_name</th>\n",
       "      <th>phone_realEstate</th>\n",
       "      <th>url_inmueble</th>\n",
       "      <th>rooms</th>\n",
       "      <th>bathrooms</th>\n",
       "      <th>surface</th>\n",
       "      <th>price</th>\n",
       "      <th>...</th>\n",
       "      <th>level5Id</th>\n",
       "      <th>level6Id</th>\n",
       "      <th>level7Id</th>\n",
       "      <th>level8Id</th>\n",
       "      <th>accuracy</th>\n",
       "      <th>latitude</th>\n",
       "      <th>longitude</th>\n",
       "      <th>zipCode</th>\n",
       "      <th>customZone</th>\n",
       "      <th>pricem2</th>\n",
       "    </tr>\n",
       "    <tr>\n",
       "      <th>level5</th>\n",
       "      <th></th>\n",
       "      <th></th>\n",
       "      <th></th>\n",
       "      <th></th>\n",
       "      <th></th>\n",
       "      <th></th>\n",
       "      <th></th>\n",
       "      <th></th>\n",
       "      <th></th>\n",
       "      <th></th>\n",
       "      <th></th>\n",
       "      <th></th>\n",
       "      <th></th>\n",
       "      <th></th>\n",
       "      <th></th>\n",
       "      <th></th>\n",
       "      <th></th>\n",
       "      <th></th>\n",
       "      <th></th>\n",
       "      <th></th>\n",
       "      <th></th>\n",
       "    </tr>\n",
       "  </thead>\n",
       "  <tbody>\n",
       "    <tr>\n",
       "      <th>Madrid Capital</th>\n",
       "      <td>6632</td>\n",
       "      <td>6632</td>\n",
       "      <td>6632</td>\n",
       "      <td>6628</td>\n",
       "      <td>6260</td>\n",
       "      <td>6632</td>\n",
       "      <td>6461</td>\n",
       "      <td>6483</td>\n",
       "      <td>6228</td>\n",
       "      <td>6632</td>\n",
       "      <td>...</td>\n",
       "      <td>6632</td>\n",
       "      <td>6632</td>\n",
       "      <td>6632</td>\n",
       "      <td>6632</td>\n",
       "      <td>6632</td>\n",
       "      <td>6632</td>\n",
       "      <td>6632</td>\n",
       "      <td>0</td>\n",
       "      <td>0</td>\n",
       "      <td>6228</td>\n",
       "    </tr>\n",
       "    <tr>\n",
       "      <th>Ajalvir</th>\n",
       "      <td>17</td>\n",
       "      <td>17</td>\n",
       "      <td>17</td>\n",
       "      <td>17</td>\n",
       "      <td>16</td>\n",
       "      <td>17</td>\n",
       "      <td>17</td>\n",
       "      <td>17</td>\n",
       "      <td>16</td>\n",
       "      <td>17</td>\n",
       "      <td>...</td>\n",
       "      <td>17</td>\n",
       "      <td>17</td>\n",
       "      <td>17</td>\n",
       "      <td>17</td>\n",
       "      <td>17</td>\n",
       "      <td>17</td>\n",
       "      <td>17</td>\n",
       "      <td>0</td>\n",
       "      <td>0</td>\n",
       "      <td>16</td>\n",
       "    </tr>\n",
       "    <tr>\n",
       "      <th>Alcalá de Henares</th>\n",
       "      <td>525</td>\n",
       "      <td>525</td>\n",
       "      <td>525</td>\n",
       "      <td>525</td>\n",
       "      <td>514</td>\n",
       "      <td>525</td>\n",
       "      <td>514</td>\n",
       "      <td>517</td>\n",
       "      <td>499</td>\n",
       "      <td>525</td>\n",
       "      <td>...</td>\n",
       "      <td>525</td>\n",
       "      <td>525</td>\n",
       "      <td>525</td>\n",
       "      <td>525</td>\n",
       "      <td>525</td>\n",
       "      <td>525</td>\n",
       "      <td>525</td>\n",
       "      <td>0</td>\n",
       "      <td>0</td>\n",
       "      <td>499</td>\n",
       "    </tr>\n",
       "    <tr>\n",
       "      <th>Alcobendas</th>\n",
       "      <td>258</td>\n",
       "      <td>258</td>\n",
       "      <td>258</td>\n",
       "      <td>258</td>\n",
       "      <td>255</td>\n",
       "      <td>258</td>\n",
       "      <td>249</td>\n",
       "      <td>253</td>\n",
       "      <td>255</td>\n",
       "      <td>258</td>\n",
       "      <td>...</td>\n",
       "      <td>258</td>\n",
       "      <td>258</td>\n",
       "      <td>258</td>\n",
       "      <td>258</td>\n",
       "      <td>258</td>\n",
       "      <td>258</td>\n",
       "      <td>258</td>\n",
       "      <td>0</td>\n",
       "      <td>0</td>\n",
       "      <td>255</td>\n",
       "    </tr>\n",
       "    <tr>\n",
       "      <th>Alcorcón</th>\n",
       "      <td>190</td>\n",
       "      <td>190</td>\n",
       "      <td>190</td>\n",
       "      <td>190</td>\n",
       "      <td>174</td>\n",
       "      <td>190</td>\n",
       "      <td>188</td>\n",
       "      <td>186</td>\n",
       "      <td>173</td>\n",
       "      <td>190</td>\n",
       "      <td>...</td>\n",
       "      <td>190</td>\n",
       "      <td>190</td>\n",
       "      <td>190</td>\n",
       "      <td>190</td>\n",
       "      <td>190</td>\n",
       "      <td>190</td>\n",
       "      <td>190</td>\n",
       "      <td>0</td>\n",
       "      <td>0</td>\n",
       "      <td>173</td>\n",
       "    </tr>\n",
       "    <tr>\n",
       "      <th>...</th>\n",
       "      <td>...</td>\n",
       "      <td>...</td>\n",
       "      <td>...</td>\n",
       "      <td>...</td>\n",
       "      <td>...</td>\n",
       "      <td>...</td>\n",
       "      <td>...</td>\n",
       "      <td>...</td>\n",
       "      <td>...</td>\n",
       "      <td>...</td>\n",
       "      <td>...</td>\n",
       "      <td>...</td>\n",
       "      <td>...</td>\n",
       "      <td>...</td>\n",
       "      <td>...</td>\n",
       "      <td>...</td>\n",
       "      <td>...</td>\n",
       "      <td>...</td>\n",
       "      <td>...</td>\n",
       "      <td>...</td>\n",
       "      <td>...</td>\n",
       "    </tr>\n",
       "    <tr>\n",
       "      <th>Villar del Olmo</th>\n",
       "      <td>7</td>\n",
       "      <td>7</td>\n",
       "      <td>7</td>\n",
       "      <td>7</td>\n",
       "      <td>7</td>\n",
       "      <td>7</td>\n",
       "      <td>7</td>\n",
       "      <td>7</td>\n",
       "      <td>7</td>\n",
       "      <td>7</td>\n",
       "      <td>...</td>\n",
       "      <td>7</td>\n",
       "      <td>7</td>\n",
       "      <td>7</td>\n",
       "      <td>7</td>\n",
       "      <td>7</td>\n",
       "      <td>7</td>\n",
       "      <td>7</td>\n",
       "      <td>0</td>\n",
       "      <td>0</td>\n",
       "      <td>7</td>\n",
       "    </tr>\n",
       "    <tr>\n",
       "      <th>Villarejo de Salvanés</th>\n",
       "      <td>19</td>\n",
       "      <td>19</td>\n",
       "      <td>19</td>\n",
       "      <td>19</td>\n",
       "      <td>19</td>\n",
       "      <td>19</td>\n",
       "      <td>16</td>\n",
       "      <td>16</td>\n",
       "      <td>17</td>\n",
       "      <td>19</td>\n",
       "      <td>...</td>\n",
       "      <td>19</td>\n",
       "      <td>19</td>\n",
       "      <td>19</td>\n",
       "      <td>19</td>\n",
       "      <td>19</td>\n",
       "      <td>19</td>\n",
       "      <td>19</td>\n",
       "      <td>0</td>\n",
       "      <td>0</td>\n",
       "      <td>17</td>\n",
       "    </tr>\n",
       "    <tr>\n",
       "      <th>Villaviciosa de Odón</th>\n",
       "      <td>166</td>\n",
       "      <td>166</td>\n",
       "      <td>166</td>\n",
       "      <td>166</td>\n",
       "      <td>163</td>\n",
       "      <td>166</td>\n",
       "      <td>165</td>\n",
       "      <td>166</td>\n",
       "      <td>148</td>\n",
       "      <td>166</td>\n",
       "      <td>...</td>\n",
       "      <td>166</td>\n",
       "      <td>166</td>\n",
       "      <td>166</td>\n",
       "      <td>166</td>\n",
       "      <td>166</td>\n",
       "      <td>166</td>\n",
       "      <td>166</td>\n",
       "      <td>0</td>\n",
       "      <td>0</td>\n",
       "      <td>148</td>\n",
       "    </tr>\n",
       "    <tr>\n",
       "      <th>Villavieja del Lozoya</th>\n",
       "      <td>6</td>\n",
       "      <td>6</td>\n",
       "      <td>6</td>\n",
       "      <td>6</td>\n",
       "      <td>6</td>\n",
       "      <td>6</td>\n",
       "      <td>6</td>\n",
       "      <td>6</td>\n",
       "      <td>4</td>\n",
       "      <td>6</td>\n",
       "      <td>...</td>\n",
       "      <td>6</td>\n",
       "      <td>6</td>\n",
       "      <td>6</td>\n",
       "      <td>6</td>\n",
       "      <td>6</td>\n",
       "      <td>6</td>\n",
       "      <td>6</td>\n",
       "      <td>0</td>\n",
       "      <td>0</td>\n",
       "      <td>4</td>\n",
       "    </tr>\n",
       "    <tr>\n",
       "      <th>Zarzalejo</th>\n",
       "      <td>2</td>\n",
       "      <td>2</td>\n",
       "      <td>2</td>\n",
       "      <td>1</td>\n",
       "      <td>1</td>\n",
       "      <td>2</td>\n",
       "      <td>2</td>\n",
       "      <td>2</td>\n",
       "      <td>2</td>\n",
       "      <td>2</td>\n",
       "      <td>...</td>\n",
       "      <td>2</td>\n",
       "      <td>2</td>\n",
       "      <td>2</td>\n",
       "      <td>2</td>\n",
       "      <td>2</td>\n",
       "      <td>2</td>\n",
       "      <td>2</td>\n",
       "      <td>0</td>\n",
       "      <td>0</td>\n",
       "      <td>2</td>\n",
       "    </tr>\n",
       "  </tbody>\n",
       "</table>\n",
       "<p>168 rows × 37 columns</p>\n",
       "</div>"
      ],
      "text/plain": [
       "                       Unnamed: 0  id_realEstates  isNew  realEstate_name  \\\n",
       "level5                                                                      \n",
       " Madrid Capital              6632            6632   6632             6628   \n",
       "Ajalvir                        17              17     17               17   \n",
       "Alcalá de Henares             525             525    525              525   \n",
       "Alcobendas                    258             258    258              258   \n",
       "Alcorcón                      190             190    190              190   \n",
       "...                           ...             ...    ...              ...   \n",
       "Villar del Olmo                 7               7      7                7   \n",
       "Villarejo de Salvanés          19              19     19               19   \n",
       "Villaviciosa de Odón          166             166    166              166   \n",
       "Villavieja del Lozoya           6               6      6                6   \n",
       "Zarzalejo                       2               2      2                1   \n",
       "\n",
       "                       phone_realEstate  url_inmueble  rooms  bathrooms  \\\n",
       "level5                                                                    \n",
       " Madrid Capital                    6260          6632   6461       6483   \n",
       "Ajalvir                              16            17     17         17   \n",
       "Alcalá de Henares                   514           525    514        517   \n",
       "Alcobendas                          255           258    249        253   \n",
       "Alcorcón                            174           190    188        186   \n",
       "...                                 ...           ...    ...        ...   \n",
       "Villar del Olmo                       7             7      7          7   \n",
       "Villarejo de Salvanés                19            19     16         16   \n",
       "Villaviciosa de Odón                163           166    165        166   \n",
       "Villavieja del Lozoya                 6             6      6          6   \n",
       "Zarzalejo                             1             2      2          2   \n",
       "\n",
       "                       surface  price  ...  level5Id  level6Id  level7Id  \\\n",
       "level5                                 ...                                 \n",
       " Madrid Capital           6228   6632  ...      6632      6632      6632   \n",
       "Ajalvir                     16     17  ...        17        17        17   \n",
       "Alcalá de Henares          499    525  ...       525       525       525   \n",
       "Alcobendas                 255    258  ...       258       258       258   \n",
       "Alcorcón                   173    190  ...       190       190       190   \n",
       "...                        ...    ...  ...       ...       ...       ...   \n",
       "Villar del Olmo              7      7  ...         7         7         7   \n",
       "Villarejo de Salvanés       17     19  ...        19        19        19   \n",
       "Villaviciosa de Odón       148    166  ...       166       166       166   \n",
       "Villavieja del Lozoya        4      6  ...         6         6         6   \n",
       "Zarzalejo                    2      2  ...         2         2         2   \n",
       "\n",
       "                       level8Id  accuracy  latitude  longitude  zipCode  \\\n",
       "level5                                                                    \n",
       " Madrid Capital            6632      6632      6632       6632        0   \n",
       "Ajalvir                      17        17        17         17        0   \n",
       "Alcalá de Henares           525       525       525        525        0   \n",
       "Alcobendas                  258       258       258        258        0   \n",
       "Alcorcón                    190       190       190        190        0   \n",
       "...                         ...       ...       ...        ...      ...   \n",
       "Villar del Olmo               7         7         7          7        0   \n",
       "Villarejo de Salvanés        19        19        19         19        0   \n",
       "Villaviciosa de Odón        166       166       166        166        0   \n",
       "Villavieja del Lozoya         6         6         6          6        0   \n",
       "Zarzalejo                     2         2         2          2        0   \n",
       "\n",
       "                       customZone  pricem2  \n",
       "level5                                      \n",
       " Madrid Capital                 0     6228  \n",
       "Ajalvir                         0       16  \n",
       "Alcalá de Henares               0      499  \n",
       "Alcobendas                      0      255  \n",
       "Alcorcón                        0      173  \n",
       "...                           ...      ...  \n",
       "Villar del Olmo                 0        7  \n",
       "Villarejo de Salvanés           0       17  \n",
       "Villaviciosa de Odón            0      148  \n",
       "Villavieja del Lozoya           0        4  \n",
       "Zarzalejo                       0        2  \n",
       "\n",
       "[168 rows x 37 columns]"
      ]
     },
     "execution_count": 69,
     "metadata": {},
     "output_type": "execute_result"
    }
   ],
   "source": [
    "print(\"Population with most houses is Madrid Capital.\")\n",
    "dfbypopulation = df.groupby(['level5'])\n",
    "dfbypopulation.count()\n"
   ]
  }
 ],
 "metadata": {
  "kernelspec": {
   "display_name": "Python 3.8.13 64-bit ('3.8.13')",
   "language": "python",
   "name": "python3"
  },
  "language_info": {
   "codemirror_mode": {
    "name": "ipython",
    "version": 3
   },
   "file_extension": ".py",
   "mimetype": "text/x-python",
   "name": "python",
   "nbconvert_exporter": "python",
   "pygments_lexer": "ipython3",
   "version": "3.8.13"
  },
  "vscode": {
   "interpreter": {
    "hash": "110cc1dee26208153f2972f08a2ad52b6a56238dc66d48e87fb757ef2996db56"
   }
  }
 },
 "nbformat": 4,
 "nbformat_minor": 5
}
