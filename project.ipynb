{
 "cells": [
  {
   "cell_type": "markdown",
   "id": "c4e52ee5",
   "metadata": {},
   "source": [
    "## The dataset\n",
    "\n",
    "This is a real dataset and it was downloaded using web scraping techniques. The data contains registers from fotocasa which is one of the most popular websites of real estate in Spain. Please, do not do this (web scraping) unless it is for academic purposes.\n",
    "\n",
    "The dataset was downloaded a few years ago by Henry Navarro and In no case were economic returns obtained from it.\n",
    "\n",
    "It contains thousands of data from real homes published on the web www.fotocasa.com. Your goal is to extract as much information as possible with the knowledge you have so far about data science, for example what is the most expensive home in the entire dataset?\n",
    "\n",
    "Let's start with precisely that question... Good luck!\n"
   ]
  },
  {
   "cell_type": "markdown",
   "id": "eb6e262b",
   "metadata": {},
   "source": [
    "Import libraries:"
   ]
  },
  {
   "cell_type": "code",
   "execution_count": 4,
   "id": "5eaef293",
   "metadata": {},
   "outputs": [],
   "source": [
    "import pandas as pd\n",
    "import numpy as np\n",
    "import matplotlib.pyplot as plt\n",
    "import seaborn as sb"
   ]
  },
  {
   "cell_type": "markdown",
   "id": "dd97255d",
   "metadata": {},
   "source": [
    "#### Read the dataset assets/real_estate.csv and try to visualize the table (★☆☆)"
   ]
  },
  {
   "cell_type": "code",
   "execution_count": 7,
   "id": "4b93d9c8",
   "metadata": {},
   "outputs": [
    {
     "data": {
      "text/html": [
       "<div>\n",
       "<style scoped>\n",
       "    .dataframe tbody tr th:only-of-type {\n",
       "        vertical-align: middle;\n",
       "    }\n",
       "\n",
       "    .dataframe tbody tr th {\n",
       "        vertical-align: top;\n",
       "    }\n",
       "\n",
       "    .dataframe thead th {\n",
       "        text-align: right;\n",
       "    }\n",
       "</style>\n",
       "<table border=\"1\" class=\"dataframe\">\n",
       "  <thead>\n",
       "    <tr style=\"text-align: right;\">\n",
       "      <th></th>\n",
       "      <th>Unnamed: 0</th>\n",
       "      <th>id_realEstates</th>\n",
       "      <th>isNew</th>\n",
       "      <th>realEstate_name</th>\n",
       "      <th>phone_realEstate</th>\n",
       "      <th>url_inmueble</th>\n",
       "      <th>rooms</th>\n",
       "      <th>bathrooms</th>\n",
       "      <th>surface</th>\n",
       "      <th>price</th>\n",
       "      <th>...</th>\n",
       "      <th>level4Id</th>\n",
       "      <th>level5Id</th>\n",
       "      <th>level6Id</th>\n",
       "      <th>level7Id</th>\n",
       "      <th>level8Id</th>\n",
       "      <th>accuracy</th>\n",
       "      <th>latitude</th>\n",
       "      <th>longitude</th>\n",
       "      <th>zipCode</th>\n",
       "      <th>customZone</th>\n",
       "    </tr>\n",
       "  </thead>\n",
       "  <tbody>\n",
       "    <tr>\n",
       "      <th>0</th>\n",
       "      <td>1</td>\n",
       "      <td>153771986</td>\n",
       "      <td>False</td>\n",
       "      <td>ferrari 57 inmobiliaria</td>\n",
       "      <td>912177526.0</td>\n",
       "      <td>https://www.fotocasa.es/es/comprar/vivienda/ma...</td>\n",
       "      <td>3.0</td>\n",
       "      <td>2.0</td>\n",
       "      <td>103.0</td>\n",
       "      <td>195000</td>\n",
       "      <td>...</td>\n",
       "      <td>0</td>\n",
       "      <td>0</td>\n",
       "      <td>0</td>\n",
       "      <td>0</td>\n",
       "      <td>0</td>\n",
       "      <td>0</td>\n",
       "      <td>40,2948276786438</td>\n",
       "      <td>-3,44402412135624</td>\n",
       "      <td>NaN</td>\n",
       "      <td>NaN</td>\n",
       "    </tr>\n",
       "    <tr>\n",
       "      <th>1</th>\n",
       "      <td>2</td>\n",
       "      <td>153867863</td>\n",
       "      <td>False</td>\n",
       "      <td>tecnocasa fuenlabrada ferrocarril</td>\n",
       "      <td>916358736.0</td>\n",
       "      <td>https://www.fotocasa.es/es/comprar/vivienda/ma...</td>\n",
       "      <td>3.0</td>\n",
       "      <td>1.0</td>\n",
       "      <td>NaN</td>\n",
       "      <td>89000</td>\n",
       "      <td>...</td>\n",
       "      <td>0</td>\n",
       "      <td>0</td>\n",
       "      <td>0</td>\n",
       "      <td>0</td>\n",
       "      <td>0</td>\n",
       "      <td>1</td>\n",
       "      <td>40,28674</td>\n",
       "      <td>-3,79351</td>\n",
       "      <td>NaN</td>\n",
       "      <td>NaN</td>\n",
       "    </tr>\n",
       "    <tr>\n",
       "      <th>2</th>\n",
       "      <td>3</td>\n",
       "      <td>153430440</td>\n",
       "      <td>False</td>\n",
       "      <td>look find boadilla</td>\n",
       "      <td>916350408.0</td>\n",
       "      <td>https://www.fotocasa.es/es/comprar/vivienda/ma...</td>\n",
       "      <td>2.0</td>\n",
       "      <td>2.0</td>\n",
       "      <td>99.0</td>\n",
       "      <td>390000</td>\n",
       "      <td>...</td>\n",
       "      <td>0</td>\n",
       "      <td>0</td>\n",
       "      <td>0</td>\n",
       "      <td>0</td>\n",
       "      <td>0</td>\n",
       "      <td>0</td>\n",
       "      <td>40,4115646786438</td>\n",
       "      <td>-3,90662252135624</td>\n",
       "      <td>NaN</td>\n",
       "      <td>NaN</td>\n",
       "    </tr>\n",
       "    <tr>\n",
       "      <th>3</th>\n",
       "      <td>4</td>\n",
       "      <td>152776331</td>\n",
       "      <td>False</td>\n",
       "      <td>tecnocasa fuenlabrada ferrocarril</td>\n",
       "      <td>916358736.0</td>\n",
       "      <td>https://www.fotocasa.es/es/comprar/vivienda/ma...</td>\n",
       "      <td>3.0</td>\n",
       "      <td>1.0</td>\n",
       "      <td>86.0</td>\n",
       "      <td>89000</td>\n",
       "      <td>...</td>\n",
       "      <td>0</td>\n",
       "      <td>0</td>\n",
       "      <td>0</td>\n",
       "      <td>0</td>\n",
       "      <td>0</td>\n",
       "      <td>0</td>\n",
       "      <td>40,2853785786438</td>\n",
       "      <td>-3,79508142135624</td>\n",
       "      <td>NaN</td>\n",
       "      <td>NaN</td>\n",
       "    </tr>\n",
       "    <tr>\n",
       "      <th>4</th>\n",
       "      <td>5</td>\n",
       "      <td>153180188</td>\n",
       "      <td>False</td>\n",
       "      <td>ferrari 57 inmobiliaria</td>\n",
       "      <td>912177526.0</td>\n",
       "      <td>https://www.fotocasa.es/es/comprar/vivienda/ma...</td>\n",
       "      <td>2.0</td>\n",
       "      <td>2.0</td>\n",
       "      <td>106.0</td>\n",
       "      <td>172000</td>\n",
       "      <td>...</td>\n",
       "      <td>0</td>\n",
       "      <td>0</td>\n",
       "      <td>0</td>\n",
       "      <td>0</td>\n",
       "      <td>0</td>\n",
       "      <td>0</td>\n",
       "      <td>40,2998774864376</td>\n",
       "      <td>-3,45226301356237</td>\n",
       "      <td>NaN</td>\n",
       "      <td>NaN</td>\n",
       "    </tr>\n",
       "  </tbody>\n",
       "</table>\n",
       "<p>5 rows × 37 columns</p>\n",
       "</div>"
      ],
      "text/plain": [
       "   Unnamed: 0  id_realEstates  isNew                    realEstate_name  \\\n",
       "0           1       153771986  False            ferrari 57 inmobiliaria   \n",
       "1           2       153867863  False  tecnocasa fuenlabrada ferrocarril   \n",
       "2           3       153430440  False                 look find boadilla   \n",
       "3           4       152776331  False  tecnocasa fuenlabrada ferrocarril   \n",
       "4           5       153180188  False            ferrari 57 inmobiliaria   \n",
       "\n",
       "   phone_realEstate                                       url_inmueble  rooms  \\\n",
       "0       912177526.0  https://www.fotocasa.es/es/comprar/vivienda/ma...    3.0   \n",
       "1       916358736.0  https://www.fotocasa.es/es/comprar/vivienda/ma...    3.0   \n",
       "2       916350408.0  https://www.fotocasa.es/es/comprar/vivienda/ma...    2.0   \n",
       "3       916358736.0  https://www.fotocasa.es/es/comprar/vivienda/ma...    3.0   \n",
       "4       912177526.0  https://www.fotocasa.es/es/comprar/vivienda/ma...    2.0   \n",
       "\n",
       "   bathrooms  surface   price  ... level4Id level5Id level6Id level7Id  \\\n",
       "0        2.0    103.0  195000  ...        0        0        0        0   \n",
       "1        1.0      NaN   89000  ...        0        0        0        0   \n",
       "2        2.0     99.0  390000  ...        0        0        0        0   \n",
       "3        1.0     86.0   89000  ...        0        0        0        0   \n",
       "4        2.0    106.0  172000  ...        0        0        0        0   \n",
       "\n",
       "  level8Id accuracy          latitude          longitude zipCode customZone  \n",
       "0        0        0  40,2948276786438  -3,44402412135624     NaN        NaN  \n",
       "1        0        1          40,28674           -3,79351     NaN        NaN  \n",
       "2        0        0  40,4115646786438  -3,90662252135624     NaN        NaN  \n",
       "3        0        0  40,2853785786438  -3,79508142135624     NaN        NaN  \n",
       "4        0        0  40,2998774864376  -3,45226301356237     NaN        NaN  \n",
       "\n",
       "[5 rows x 37 columns]"
      ]
     },
     "execution_count": 7,
     "metadata": {},
     "output_type": "execute_result"
    }
   ],
   "source": [
    "df = pd.read_csv('assets/real_estate.csv', sep=';')\n",
    "df.head()"
   ]
  },
  {
   "cell_type": "code",
   "execution_count": 4,
   "id": "912c439d",
   "metadata": {},
   "outputs": [
    {
     "name": "stdout",
     "output_type": "stream",
     "text": [
      "<class 'pandas.core.frame.DataFrame'>\n",
      "RangeIndex: 15335 entries, 0 to 15334\n",
      "Data columns (total 37 columns):\n",
      " #   Column            Non-Null Count  Dtype  \n",
      "---  ------            --------------  -----  \n",
      " 0   Unnamed: 0        15335 non-null  int64  \n",
      " 1   id_realEstates    15335 non-null  int64  \n",
      " 2   isNew             15335 non-null  bool   \n",
      " 3   realEstate_name   15325 non-null  object \n",
      " 4   phone_realEstate  14541 non-null  float64\n",
      " 5   url_inmueble      15335 non-null  object \n",
      " 6   rooms             14982 non-null  float64\n",
      " 7   bathrooms         14990 non-null  float64\n",
      " 8   surface           14085 non-null  float64\n",
      " 9   price             15335 non-null  int64  \n",
      " 10  date              15335 non-null  object \n",
      " 11  description       15193 non-null  object \n",
      " 12  address           15335 non-null  object \n",
      " 13  country           15335 non-null  object \n",
      " 14  level1            15335 non-null  object \n",
      " 15  level2            15335 non-null  object \n",
      " 16  level3            15335 non-null  object \n",
      " 17  level4            8692 non-null   object \n",
      " 18  level5            15335 non-null  object \n",
      " 19  level6            708 non-null    object \n",
      " 20  level7            13058 non-null  object \n",
      " 21  level8            6756 non-null   object \n",
      " 22  upperLevel        15335 non-null  object \n",
      " 23  countryId         15335 non-null  int64  \n",
      " 24  level1Id          15335 non-null  int64  \n",
      " 25  level2Id          15335 non-null  int64  \n",
      " 26  level3Id          15335 non-null  int64  \n",
      " 27  level4Id          15335 non-null  int64  \n",
      " 28  level5Id          15335 non-null  int64  \n",
      " 29  level6Id          15335 non-null  int64  \n",
      " 30  level7Id          15335 non-null  int64  \n",
      " 31  level8Id          15335 non-null  int64  \n",
      " 32  accuracy          15335 non-null  int64  \n",
      " 33  latitude          15335 non-null  object \n",
      " 34  longitude         15335 non-null  object \n",
      " 35  zipCode           0 non-null      float64\n",
      " 36  customZone        0 non-null      float64\n",
      "dtypes: bool(1), float64(6), int64(13), object(17)\n",
      "memory usage: 4.2+ MB\n"
     ]
    }
   ],
   "source": [
    "df.info()"
   ]
  },
  {
   "cell_type": "markdown",
   "id": "40631cd6",
   "metadata": {},
   "source": [
    "#### What is the most expensive home in the dataset? (★☆☆)"
   ]
  },
  {
   "cell_type": "markdown",
   "id": "860443fe",
   "metadata": {},
   "source": [
    "Different ways of doing it:"
   ]
  },
  {
   "cell_type": "code",
   "execution_count": 31,
   "id": "a56a921f",
   "metadata": {},
   "outputs": [
    {
     "data": {
      "text/plain": [
       "8500000"
      ]
     },
     "execution_count": 31,
     "metadata": {},
     "output_type": "execute_result"
    }
   ],
   "source": [
    "df['price'].max()"
   ]
  },
  {
   "cell_type": "code",
   "execution_count": 30,
   "id": "8a758bcf",
   "metadata": {},
   "outputs": [
    {
     "data": {
      "text/plain": [
       "8500000"
      ]
     },
     "execution_count": 30,
     "metadata": {},
     "output_type": "execute_result"
    }
   ],
   "source": [
    "df.price.max()"
   ]
  },
  {
   "cell_type": "code",
   "execution_count": 32,
   "id": "3235226c",
   "metadata": {},
   "outputs": [
    {
     "data": {
      "text/plain": [
       "count    1.533500e+04\n",
       "mean     4.773036e+05\n",
       "std      5.912942e+05\n",
       "min      0.000000e+00\n",
       "25%      1.690000e+05\n",
       "50%      2.800000e+05\n",
       "75%      5.400000e+05\n",
       "max      8.500000e+06\n",
       "Name: price, dtype: float64"
      ]
     },
     "execution_count": 32,
     "metadata": {},
     "output_type": "execute_result"
    }
   ],
   "source": [
    "df.price.describe()"
   ]
  },
  {
   "cell_type": "markdown",
   "id": "0a708990",
   "metadata": {},
   "source": [
    "#### What is cheapest home in the dataset? (★☆☆)"
   ]
  },
  {
   "cell_type": "code",
   "execution_count": 26,
   "id": "477e01f4",
   "metadata": {},
   "outputs": [
    {
     "data": {
      "text/plain": [
       "0"
      ]
     },
     "execution_count": 26,
     "metadata": {},
     "output_type": "execute_result"
    }
   ],
   "source": [
    "df[\"price\"].min()"
   ]
  },
  {
   "cell_type": "markdown",
   "id": "0b16cd77",
   "metadata": {},
   "source": [
    "#### What is the biggest and the smallest home in the dataset? (★☆☆)"
   ]
  },
  {
   "cell_type": "code",
   "execution_count": 35,
   "id": "4d9b5975",
   "metadata": {},
   "outputs": [
    {
     "data": {
      "text/plain": [
       "249000.0"
      ]
     },
     "execution_count": 35,
     "metadata": {},
     "output_type": "execute_result"
    }
   ],
   "source": [
    "df[\"surface\"].max() #Biggest home   "
   ]
  },
  {
   "cell_type": "code",
   "execution_count": 34,
   "id": "681229fe",
   "metadata": {},
   "outputs": [
    {
     "data": {
      "text/plain": [
       "15.0"
      ]
     },
     "execution_count": 34,
     "metadata": {},
     "output_type": "execute_result"
    }
   ],
   "source": [
    "df[\"surface\"].min() #Smaller home"
   ]
  },
  {
   "cell_type": "markdown",
   "id": "e730c831",
   "metadata": {},
   "source": [
    "Another way of doing it:"
   ]
  },
  {
   "cell_type": "code",
   "execution_count": 4,
   "id": "9823c426",
   "metadata": {},
   "outputs": [
    {
     "data": {
      "text/html": [
       "<div>\n",
       "<style scoped>\n",
       "    .dataframe tbody tr th:only-of-type {\n",
       "        vertical-align: middle;\n",
       "    }\n",
       "\n",
       "    .dataframe tbody tr th {\n",
       "        vertical-align: top;\n",
       "    }\n",
       "\n",
       "    .dataframe thead th {\n",
       "        text-align: right;\n",
       "    }\n",
       "</style>\n",
       "<table border=\"1\" class=\"dataframe\">\n",
       "  <thead>\n",
       "    <tr style=\"text-align: right;\">\n",
       "      <th></th>\n",
       "      <th>Unnamed: 0</th>\n",
       "      <th>id_realEstates</th>\n",
       "      <th>isNew</th>\n",
       "      <th>realEstate_name</th>\n",
       "      <th>phone_realEstate</th>\n",
       "      <th>url_inmueble</th>\n",
       "      <th>rooms</th>\n",
       "      <th>bathrooms</th>\n",
       "      <th>surface</th>\n",
       "      <th>price</th>\n",
       "      <th>...</th>\n",
       "      <th>level4Id</th>\n",
       "      <th>level5Id</th>\n",
       "      <th>level6Id</th>\n",
       "      <th>level7Id</th>\n",
       "      <th>level8Id</th>\n",
       "      <th>accuracy</th>\n",
       "      <th>latitude</th>\n",
       "      <th>longitude</th>\n",
       "      <th>zipCode</th>\n",
       "      <th>customZone</th>\n",
       "    </tr>\n",
       "  </thead>\n",
       "  <tbody>\n",
       "    <tr>\n",
       "      <th>498</th>\n",
       "      <td>499</td>\n",
       "      <td>152817874</td>\n",
       "      <td>False</td>\n",
       "      <td>toledo21</td>\n",
       "      <td>910757382.0</td>\n",
       "      <td>https://www.fotocasa.es/es/comprar/vivienda/ma...</td>\n",
       "      <td>1.0</td>\n",
       "      <td>1.0</td>\n",
       "      <td>15.0</td>\n",
       "      <td>85000</td>\n",
       "      <td>...</td>\n",
       "      <td>0</td>\n",
       "      <td>0</td>\n",
       "      <td>0</td>\n",
       "      <td>0</td>\n",
       "      <td>0</td>\n",
       "      <td>0</td>\n",
       "      <td>40,40818</td>\n",
       "      <td>-3,70192</td>\n",
       "      <td>NaN</td>\n",
       "      <td>NaN</td>\n",
       "    </tr>\n",
       "  </tbody>\n",
       "</table>\n",
       "<p>1 rows × 37 columns</p>\n",
       "</div>"
      ],
      "text/plain": [
       "     Unnamed: 0  id_realEstates  isNew realEstate_name  phone_realEstate  \\\n",
       "498         499       152817874  False        toledo21       910757382.0   \n",
       "\n",
       "                                          url_inmueble  rooms  bathrooms  \\\n",
       "498  https://www.fotocasa.es/es/comprar/vivienda/ma...    1.0        1.0   \n",
       "\n",
       "     surface  price  ... level4Id level5Id level6Id level7Id level8Id  \\\n",
       "498     15.0  85000  ...        0        0        0        0        0   \n",
       "\n",
       "    accuracy  latitude longitude zipCode customZone  \n",
       "498        0  40,40818  -3,70192     NaN        NaN  \n",
       "\n",
       "[1 rows x 37 columns]"
      ]
     },
     "execution_count": 4,
     "metadata": {},
     "output_type": "execute_result"
    }
   ],
   "source": [
    "df = df[df['surface']>0]\n",
    "data_filtered_2 = df.sort_values(by='surface', ascending=True)\n",
    "data_filtered_2[0:1]\n",
    "#Smaller home"
   ]
  },
  {
   "cell_type": "code",
   "execution_count": 14,
   "id": "a6b24a6a",
   "metadata": {},
   "outputs": [
    {
     "data": {
      "text/html": [
       "<div>\n",
       "<style scoped>\n",
       "    .dataframe tbody tr th:only-of-type {\n",
       "        vertical-align: middle;\n",
       "    }\n",
       "\n",
       "    .dataframe tbody tr th {\n",
       "        vertical-align: top;\n",
       "    }\n",
       "\n",
       "    .dataframe thead th {\n",
       "        text-align: right;\n",
       "    }\n",
       "</style>\n",
       "<table border=\"1\" class=\"dataframe\">\n",
       "  <thead>\n",
       "    <tr style=\"text-align: right;\">\n",
       "      <th></th>\n",
       "      <th>Unnamed: 0</th>\n",
       "      <th>id_realEstates</th>\n",
       "      <th>isNew</th>\n",
       "      <th>realEstate_name</th>\n",
       "      <th>phone_realEstate</th>\n",
       "      <th>url_inmueble</th>\n",
       "      <th>rooms</th>\n",
       "      <th>bathrooms</th>\n",
       "      <th>surface</th>\n",
       "      <th>price</th>\n",
       "      <th>...</th>\n",
       "      <th>level4Id</th>\n",
       "      <th>level5Id</th>\n",
       "      <th>level6Id</th>\n",
       "      <th>level7Id</th>\n",
       "      <th>level8Id</th>\n",
       "      <th>accuracy</th>\n",
       "      <th>latitude</th>\n",
       "      <th>longitude</th>\n",
       "      <th>zipCode</th>\n",
       "      <th>customZone</th>\n",
       "    </tr>\n",
       "  </thead>\n",
       "  <tbody>\n",
       "    <tr>\n",
       "      <th>6794</th>\n",
       "      <td>6795</td>\n",
       "      <td>153936192</td>\n",
       "      <td>False</td>\n",
       "      <td>habitarium inmobiliaria</td>\n",
       "      <td>916357732.0</td>\n",
       "      <td>https://www.fotocasa.es/es/comprar/vivienda/ma...</td>\n",
       "      <td>3.0</td>\n",
       "      <td>2.0</td>\n",
       "      <td>249000.0</td>\n",
       "      <td>289000</td>\n",
       "      <td>...</td>\n",
       "      <td>0</td>\n",
       "      <td>0</td>\n",
       "      <td>0</td>\n",
       "      <td>0</td>\n",
       "      <td>0</td>\n",
       "      <td>0</td>\n",
       "      <td>40,34633</td>\n",
       "      <td>-4,02174</td>\n",
       "      <td>NaN</td>\n",
       "      <td>NaN</td>\n",
       "    </tr>\n",
       "  </tbody>\n",
       "</table>\n",
       "<p>1 rows × 37 columns</p>\n",
       "</div>"
      ],
      "text/plain": [
       "      Unnamed: 0  id_realEstates  isNew          realEstate_name  \\\n",
       "6794        6795       153936192  False  habitarium inmobiliaria   \n",
       "\n",
       "      phone_realEstate                                       url_inmueble  \\\n",
       "6794       916357732.0  https://www.fotocasa.es/es/comprar/vivienda/ma...   \n",
       "\n",
       "      rooms  bathrooms   surface   price  ... level4Id level5Id level6Id  \\\n",
       "6794    3.0        2.0  249000.0  289000  ...        0        0        0   \n",
       "\n",
       "     level7Id level8Id accuracy  latitude longitude zipCode customZone  \n",
       "6794        0        0        0  40,34633  -4,02174     NaN        NaN  \n",
       "\n",
       "[1 rows x 37 columns]"
      ]
     },
     "execution_count": 14,
     "metadata": {},
     "output_type": "execute_result"
    }
   ],
   "source": [
    "df = df[df['surface']>0]\n",
    "data_filtered_2 = df.sort_values(by='surface', ascending=False)\n",
    "data_filtered_2[0:1]\n",
    "#Biggest home"
   ]
  },
  {
   "cell_type": "markdown",
   "id": "782d4c77",
   "metadata": {},
   "source": [
    "#### How many populations (level5) the dataset contains? (★☆☆)"
   ]
  },
  {
   "cell_type": "code",
   "execution_count": 6,
   "id": "5dbe1a08",
   "metadata": {},
   "outputs": [
    {
     "data": {
      "text/plain": [
       "168"
      ]
     },
     "execution_count": 6,
     "metadata": {},
     "output_type": "execute_result"
    }
   ],
   "source": [
    "level_5_unique = df['level5'].unique()\n",
    "len(level_5_unique)"
   ]
  },
  {
   "cell_type": "markdown",
   "id": "48d48f01",
   "metadata": {},
   "source": [
    "#### Does the dataset contain NAs? (★☆☆)\n"
   ]
  },
  {
   "cell_type": "code",
   "execution_count": 18,
   "id": "3ed233e7",
   "metadata": {},
   "outputs": [
    {
     "data": {
      "text/plain": [
       "Unnamed: 0              0\n",
       "id_realEstates          0\n",
       "isNew                   0\n",
       "realEstate_name        10\n",
       "phone_realEstate      721\n",
       "url_inmueble            0\n",
       "rooms                 322\n",
       "bathrooms             295\n",
       "surface                 0\n",
       "price                   0\n",
       "date                    0\n",
       "description           129\n",
       "address                 0\n",
       "country                 0\n",
       "level1                  0\n",
       "level2                  0\n",
       "level3                  0\n",
       "level4               6237\n",
       "level5                  0\n",
       "level6              13408\n",
       "level7               2024\n",
       "level8               7749\n",
       "upperLevel              0\n",
       "countryId               0\n",
       "level1Id                0\n",
       "level2Id                0\n",
       "level3Id                0\n",
       "level4Id                0\n",
       "level5Id                0\n",
       "level6Id                0\n",
       "level7Id                0\n",
       "level8Id                0\n",
       "accuracy                0\n",
       "latitude                0\n",
       "longitude               0\n",
       "zipCode             14085\n",
       "customZone          14085\n",
       "dtype: int64"
      ]
     },
     "execution_count": 18,
     "metadata": {},
     "output_type": "execute_result"
    }
   ],
   "source": [
    "df.isna().sum()"
   ]
  },
  {
   "cell_type": "markdown",
   "id": "4fa39382",
   "metadata": {},
   "source": [
    "#### Delete the NAs of the dataset, if applicable (★★☆)"
   ]
  },
  {
   "cell_type": "code",
   "execution_count": 29,
   "id": "c97757ec",
   "metadata": {},
   "outputs": [],
   "source": [
    "#Acá no usamos dropna porque hay muchos missing y la función dropna borra las rows en las que hay missing, en este caso nos quedamos sin datos casi.\n",
    "#Lo que sí se puede hacer es reemplazar los na por otros valores, por ejemplo:\n",
    "# df['level6'].fillna(\"sin-determinar\", inplace=True) #Reemplaza los NA en \"level6\" con \"sin-determinar\"\n",
    "# df['rooms'].fillna(0, inplace=True) #Reemplaza los NA en \"rooms\" con 0\n"
   ]
  },
  {
   "cell_type": "markdown",
   "id": "0e5f76de",
   "metadata": {},
   "source": [
    "#### What is the mean of prices in the population (level5) of \"Arroyomolinos (Madrid)\"? (★★☆)"
   ]
  },
  {
   "cell_type": "code",
   "execution_count": 7,
   "id": "327f7adb",
   "metadata": {},
   "outputs": [
    {
     "data": {
      "text/plain": [
       "299892.6923076923"
      ]
     },
     "execution_count": 7,
     "metadata": {},
     "output_type": "execute_result"
    }
   ],
   "source": [
    "df_arroyo = df[df['level5'] == \"Arroyomolinos (Madrid)\"] #Me quedo solo con los de Arroyomolinos\n",
    "prices_arroyo_sin_0 = df_arroyo[df_arroyo['price'] > 0] #Me quedo solo con los precios de Arroyomolinos que son mayores a 0\n",
    "prices_arroyo_sin_0['price'].mean() #Calculo la media de los precios de Arroyomolinos sin ceros\n"
   ]
  },
  {
   "cell_type": "markdown",
   "id": "ebfb4548",
   "metadata": {},
   "source": [
    "Shorter way of doing it:"
   ]
  },
  {
   "cell_type": "code",
   "execution_count": 8,
   "id": "a1e51aa4",
   "metadata": {},
   "outputs": [
    {
     "name": "stdout",
     "output_type": "stream",
     "text": [
      "299892.69\n"
     ]
    }
   ],
   "source": [
    "data_price=df[df['price']>0] #Filtra los precios de todo el dataframe > 0\n",
    "print(str(round(data_price[data_price.level5 == \"Arroyomolinos (Madrid)\"].price.mean(),2))) #Calcula la media para los precios de Arroyomolinos"
   ]
  },
  {
   "cell_type": "markdown",
   "id": "89b548e3",
   "metadata": {},
   "source": [
    "#### Plot the histogram of prices for the population (level5) of \"Arroyomolinos (Madrid)\" and explain what you observe (★★☆)"
   ]
  },
  {
   "cell_type": "code",
   "execution_count": 15,
   "id": "2ba51bf7",
   "metadata": {},
   "outputs": [
    {
     "data": {
      "text/plain": [
       "Text(0.5, 1.0, 'Histogram of prices for Arroyomolinos population')"
      ]
     },
     "execution_count": 15,
     "metadata": {},
     "output_type": "execute_result"
    },
    {
     "data": {
      "image/png": "[encoded data removed]",
      "text/plain": [
       "<Figure size 432x288 with 1 Axes>"
      ]
     },
     "metadata": {
      "needs_background": "light"
     },
     "output_type": "display_data"
    }
   ],
   "source": [
    "df_arroyo = df[df['level5'] == \"Arroyomolinos (Madrid)\"] #Me quedo solo con los de Arroyomolinos\n",
    "plt.hist(df_arroyo[\"price\"]) #Acá hago plot con todos los precios, 0 incluidos\n",
    "plt.xlabel('Prices')\n",
    "plt.ylabel('Level5')\n",
    "plt.title('Histogram of prices for Arroyomolinos population')\n",
    "\n",
    "#plt.hist(df_arroyo[[\"price\"]>0]) #Este filtro está mal, me da error y no entiendo por qué"
   ]
  },
  {
   "cell_type": "markdown",
   "id": "b97092a2",
   "metadata": {},
   "source": [
    "Another way of doing it:"
   ]
  },
  {
   "cell_type": "code",
   "execution_count": 16,
   "id": "47790366",
   "metadata": {},
   "outputs": [
    {
     "data": {
      "text/plain": [
       "Text(0.5, 1.0, 'Histogram of prices for Arroyomolinos population')"
      ]
     },
     "execution_count": 16,
     "metadata": {},
     "output_type": "execute_result"
    },
    {
     "data": {
      "image/png": "[encoded data removed]",
      "text/plain": [
       "<Figure size 432x288 with 1 Axes>"
      ]
     },
     "metadata": {
      "needs_background": "light"
     },
     "output_type": "display_data"
    }
   ],
   "source": [
    "df_arroyo = df[df['level5'] == \"Arroyomolinos (Madrid)\"] #Me quedo solo con los de Arroyomolinos\n",
    "prices_arroyo_sin_0 = df_arroyo[df_arroyo['price'] > 0] #Me quedo solo con los precios de Arroyomolinos sin 0\n",
    "plt.hist(prices_arroyo_sin_0['price']) #Lo ploteo\n",
    "plt.xlabel('Prices')\n",
    "plt.ylabel('Level5')\n",
    "plt.title('Histogram of prices for Arroyomolinos population')\n",
    "\n",
    "#La mayoría de las casas de Arroyomolinos se concentran en el entorno de los 250.000 y 350.000 dólares"
   ]
  },
  {
   "cell_type": "markdown",
   "id": "c86dc493",
   "metadata": {},
   "source": [
    "#### Now let's work with the \"south belt\" of madrid. Make a subsetting that contains the following populations (level5): \"Fuenlabrada\",\"Leganés\",\"Getafe\",\"Alcorcón\" (★★☆) "
   ]
  },
  {
   "cell_type": "code",
   "execution_count": 25,
   "id": "5280d0cb",
   "metadata": {},
   "outputs": [
    {
     "name": "stdout",
     "output_type": "stream",
     "text": [
      "<class 'pandas.core.frame.DataFrame'>\n",
      "Int64Index: 787 entries, 3 to 15325\n",
      "Data columns (total 37 columns):\n",
      " #   Column            Non-Null Count  Dtype  \n",
      "---  ------            --------------  -----  \n",
      " 0   Unnamed: 0        787 non-null    int64  \n",
      " 1   id_realEstates    787 non-null    int64  \n",
      " 2   isNew             787 non-null    bool   \n",
      " 3   realEstate_name   787 non-null    object \n",
      " 4   phone_realEstate  740 non-null    float64\n",
      " 5   url_inmueble      787 non-null    object \n",
      " 6   rooms             783 non-null    float64\n",
      " 7   bathrooms         781 non-null    float64\n",
      " 8   surface           787 non-null    float64\n",
      " 9   price             787 non-null    int64  \n",
      " 10  date              787 non-null    object \n",
      " 11  description       782 non-null    object \n",
      " 12  address           787 non-null    object \n",
      " 13  country           787 non-null    object \n",
      " 14  level1            787 non-null    object \n",
      " 15  level2            787 non-null    object \n",
      " 16  level3            787 non-null    object \n",
      " 17  level4            787 non-null    object \n",
      " 18  level5            787 non-null    object \n",
      " 19  level6            0 non-null      object \n",
      " 20  level7            787 non-null    object \n",
      " 21  level8            73 non-null     object \n",
      " 22  upperLevel        787 non-null    object \n",
      " 23  countryId         787 non-null    int64  \n",
      " 24  level1Id          787 non-null    int64  \n",
      " 25  level2Id          787 non-null    int64  \n",
      " 26  level3Id          787 non-null    int64  \n",
      " 27  level4Id          787 non-null    int64  \n",
      " 28  level5Id          787 non-null    int64  \n",
      " 29  level6Id          787 non-null    int64  \n",
      " 30  level7Id          787 non-null    int64  \n",
      " 31  level8Id          787 non-null    int64  \n",
      " 32  accuracy          787 non-null    int64  \n",
      " 33  latitude          787 non-null    object \n",
      " 34  longitude         787 non-null    object \n",
      " 35  zipCode           0 non-null      float64\n",
      " 36  customZone        0 non-null      float64\n",
      "dtypes: bool(1), float64(6), int64(13), object(17)\n",
      "memory usage: 228.3+ KB\n"
     ]
    }
   ],
   "source": [
    "sbelt = df[(df['level5'] == \"Fuenlabrada\") | (df['level5'] == \"Leganés\") | (df['level5'] == \"Getafe\") | (df['level5'] == \"Alcorcón\")]\n",
    "sbelt.info()\n",
    "\n",
    "#Otra forma:\n",
    "#sbelt = df[df['level5'].isin((\"Fuenlabrada\", \"Leganés\", \"Getafe\", \"Alcorcón\"))]\n",
    "\n",
    "#Otra forma:\n",
    "#lista = [\"Fuenlabrada\",\"Leganés\",\"Getafe\",\"Alcorcón\"]\n",
    "#boolean_series = df.level5.isin(lista)\n",
    "#data_filtered_south = df[boolean_series]\n",
    "#data_filtered_south.info()"
   ]
  },
  {
   "cell_type": "markdown",
   "id": "090a6a3e",
   "metadata": {},
   "source": [
    "#### Make a bar plot of the median of prices (★★★) "
   ]
  },
  {
   "cell_type": "code",
   "execution_count": 18,
   "id": "68aec11c",
   "metadata": {},
   "outputs": [
    {
     "data": {
      "image/png": "[encoded data removed]",
      "text/plain": [
       "<Figure size 432x288 with 1 Axes>"
      ]
     },
     "metadata": {
      "needs_background": "light"
     },
     "output_type": "display_data"
    }
   ],
   "source": [
    "from statistics import median\n",
    "sbelt = df[(df['level5'] == \"Fuenlabrada\") | (df['level5'] == \"Leganés\") | (df['level5'] == \"Getafe\") | (df['level5'] == \"Alcorcón\")]\n",
    "sb.barplot(x = sbelt['level5'], y = sbelt['price'], estimator = median)\n",
    "plt.show()"
   ]
  },
  {
   "cell_type": "markdown",
   "id": "18f67373",
   "metadata": {},
   "source": [
    "#### Calculate the sample mean and variance of the variables: price, rooms, surface area and bathrooms (★★★) "
   ]
  },
  {
   "cell_type": "code",
   "execution_count": 19,
   "id": "8d068061",
   "metadata": {},
   "outputs": [
    {
     "name": "stdout",
     "output_type": "stream",
     "text": [
      "price        223094.480706\n",
      "rooms             3.017738\n",
      "surface         111.752224\n",
      "bathrooms         1.633222\n",
      "dtype: float64\n",
      "price        1.492137e+10\n",
      "rooms        7.188859e-01\n",
      "surface      4.263052e+03\n",
      "bathrooms    5.717969e-01\n",
      "dtype: float64\n"
     ]
    },
    {
     "name": "stderr",
     "output_type": "stream",
     "text": [
      "/tmp/ipykernel_2335/2897748012.py:2: FutureWarning: Dropping of nuisance columns in DataFrame reductions (with 'numeric_only=None') is deprecated; in a future version this will raise TypeError.  Select only valid columns before calling the reduction.\n",
      "  print(variables.mean())\n",
      "/tmp/ipykernel_2335/2897748012.py:3: FutureWarning: Dropping of nuisance columns in DataFrame reductions (with 'numeric_only=None') is deprecated; in a future version this will raise TypeError.  Select only valid columns before calling the reduction.\n",
      "  print(variables.var())\n"
     ]
    }
   ],
   "source": [
    "variables = sbelt[['level5', 'price', 'rooms', 'surface', 'bathrooms']]\n",
    "print(variables.mean()) \n",
    "print(variables.var())"
   ]
  },
  {
   "cell_type": "markdown",
   "id": "95cfde61",
   "metadata": {},
   "source": [
    "#### What is the most expensive home of each population? (★★☆) "
   ]
  },
  {
   "cell_type": "code",
   "execution_count": 42,
   "id": "1c29f78c",
   "metadata": {},
   "outputs": [
    {
     "data": {
      "text/plain": [
       "level5\n",
       "Alcorcón        950000\n",
       "Fuenlabrada     490000\n",
       "Getafe         1050000\n",
       "Leganés         650000\n",
       "Name: price, dtype: int64"
      ]
     },
     "execution_count": 42,
     "metadata": {},
     "output_type": "execute_result"
    }
   ],
   "source": [
    "data_filtered_south.groupby('level5')['price'].agg('max')"
   ]
  },
  {
   "cell_type": "markdown",
   "id": "ea67579b",
   "metadata": {},
   "source": [
    "#### Normalize the variable of prices for each population and plot the 4 histograms in the same plot (★★★) "
   ]
  },
  {
   "cell_type": "code",
   "execution_count": null,
   "id": "385ad99c",
   "metadata": {},
   "outputs": [],
   "source": []
  },
  {
   "cell_type": "markdown",
   "id": "2ec1bd5c",
   "metadata": {},
   "source": [
    "#### Make a plot of the coordinates (lat and long) of the south belt of Madrid by color of each population (★★★★) \n",
    "This is a extremely hard exercise and we highly recommend to do it at the end of everything"
   ]
  },
  {
   "cell_type": "code",
   "execution_count": null,
   "id": "312aac99",
   "metadata": {},
   "outputs": [],
   "source": [
    "# Run in console the following command before run the rest of code:\n",
    "# jupyter nbextension enable --py --sys-prefix ipyleaflet\n",
    "\n",
    "from ipyleaflet import Map, basemaps\n",
    "\n",
    "# Map centred on (60 degrees latitude et -2.2 degrees longitude)\n",
    "# Latitude, longitude\n",
    "map = Map(center = (60, -2.2), zoom = 2, min_zoom = 1, max_zoom = 20, \n",
    "    basemap=basemaps.Stamen.Terrain)\n",
    "map"
   ]
  },
  {
   "cell_type": "code",
   "execution_count": 11,
   "id": "f7931ec0",
   "metadata": {},
   "outputs": [],
   "source": [
    "## HERE: plot the coordinates of the estates\n",
    "\n",
    "## PUT HERE YOUR CODE:"
   ]
  },
  {
   "cell_type": "markdown",
   "id": "b22874b7",
   "metadata": {},
   "source": [
    "#### What can you say about the price per square meter between the towns of Getafe and Alcorcón?"
   ]
  },
  {
   "cell_type": "code",
   "execution_count": null,
   "id": "e0ef506b",
   "metadata": {},
   "outputs": [],
   "source": []
  },
  {
   "cell_type": "markdown",
   "id": "a4376b3f",
   "metadata": {},
   "source": [
    "#### Reload the data, is the average of \"Valdemorillo\" and \"Galapagar\" prices the same?"
   ]
  },
  {
   "cell_type": "code",
   "execution_count": null,
   "id": "37dbaf65",
   "metadata": {},
   "outputs": [],
   "source": []
  },
  {
   "cell_type": "markdown",
   "id": "b6af45ec",
   "metadata": {},
   "source": [
    "#### What happens if we do the same analysis for price/m2 (★★☆) "
   ]
  },
  {
   "cell_type": "code",
   "execution_count": null,
   "id": "8231d73e",
   "metadata": {},
   "outputs": [],
   "source": []
  },
  {
   "cell_type": "markdown",
   "id": "2d40e202",
   "metadata": {},
   "source": [
    "#### Could you say there is a relation between surface and price? (★★☆) \n",
    "Hint: make a scatter plot."
   ]
  },
  {
   "cell_type": "code",
   "execution_count": null,
   "id": "405462e1",
   "metadata": {},
   "outputs": [],
   "source": []
  },
  {
   "cell_type": "markdown",
   "id": "3275db77",
   "metadata": {},
   "source": [
    "#### Make the same plot for 4 different populations (level5) and rearrange them on the same graph? (★★☆) \n",
    "Hint: make a scatter plot of each population using subplots."
   ]
  },
  {
   "cell_type": "code",
   "execution_count": null,
   "id": "e08292ff",
   "metadata": {},
   "outputs": [],
   "source": []
  },
  {
   "cell_type": "markdown",
   "id": "522c6bd9",
   "metadata": {},
   "source": [
    "#### How many  real estate agencies the dataset contains? (★★☆) "
   ]
  },
  {
   "cell_type": "code",
   "execution_count": 20,
   "id": "014ec6c8",
   "metadata": {},
   "outputs": [
    {
     "name": "stdout",
     "output_type": "stream",
     "text": [
      "14217\n"
     ]
    }
   ],
   "source": [
    "realestategroup = df.groupby(['id_realEstates'])\n",
    "print(len(realestategroup))"
   ]
  },
  {
   "cell_type": "markdown",
   "id": "899a101e",
   "metadata": {},
   "source": [
    "#### What is the population (level 5) that contains the most houses? (★★☆) "
   ]
  },
  {
   "cell_type": "code",
   "execution_count": 27,
   "id": "9e8b34ba",
   "metadata": {},
   "outputs": [
    {
     "data": {
      "text/html": [
       "<div>\n",
       "<style scoped>\n",
       "    .dataframe tbody tr th:only-of-type {\n",
       "        vertical-align: middle;\n",
       "    }\n",
       "\n",
       "    .dataframe tbody tr th {\n",
       "        vertical-align: top;\n",
       "    }\n",
       "\n",
       "    .dataframe thead th {\n",
       "        text-align: right;\n",
       "    }\n",
       "</style>\n",
       "<table border=\"1\" class=\"dataframe\">\n",
       "  <thead>\n",
       "    <tr style=\"text-align: right;\">\n",
       "      <th></th>\n",
       "      <th>Unnamed: 0</th>\n",
       "      <th>id_realEstates</th>\n",
       "      <th>isNew</th>\n",
       "      <th>realEstate_name</th>\n",
       "      <th>phone_realEstate</th>\n",
       "      <th>url_inmueble</th>\n",
       "      <th>rooms</th>\n",
       "      <th>bathrooms</th>\n",
       "      <th>surface</th>\n",
       "      <th>price</th>\n",
       "      <th>...</th>\n",
       "      <th>level4Id</th>\n",
       "      <th>level5Id</th>\n",
       "      <th>level6Id</th>\n",
       "      <th>level7Id</th>\n",
       "      <th>level8Id</th>\n",
       "      <th>accuracy</th>\n",
       "      <th>latitude</th>\n",
       "      <th>longitude</th>\n",
       "      <th>zipCode</th>\n",
       "      <th>customZone</th>\n",
       "    </tr>\n",
       "    <tr>\n",
       "      <th>level5</th>\n",
       "      <th></th>\n",
       "      <th></th>\n",
       "      <th></th>\n",
       "      <th></th>\n",
       "      <th></th>\n",
       "      <th></th>\n",
       "      <th></th>\n",
       "      <th></th>\n",
       "      <th></th>\n",
       "      <th></th>\n",
       "      <th></th>\n",
       "      <th></th>\n",
       "      <th></th>\n",
       "      <th></th>\n",
       "      <th></th>\n",
       "      <th></th>\n",
       "      <th></th>\n",
       "      <th></th>\n",
       "      <th></th>\n",
       "      <th></th>\n",
       "      <th></th>\n",
       "    </tr>\n",
       "  </thead>\n",
       "  <tbody>\n",
       "    <tr>\n",
       "      <th>Madrid Capital</th>\n",
       "      <td>6643</td>\n",
       "      <td>6643</td>\n",
       "      <td>6643</td>\n",
       "      <td>6639</td>\n",
       "      <td>6269</td>\n",
       "      <td>6643</td>\n",
       "      <td>6472</td>\n",
       "      <td>6492</td>\n",
       "      <td>6237</td>\n",
       "      <td>6643</td>\n",
       "      <td>...</td>\n",
       "      <td>6643</td>\n",
       "      <td>6643</td>\n",
       "      <td>6643</td>\n",
       "      <td>6643</td>\n",
       "      <td>6643</td>\n",
       "      <td>6643</td>\n",
       "      <td>6643</td>\n",
       "      <td>6643</td>\n",
       "      <td>0</td>\n",
       "      <td>0</td>\n",
       "    </tr>\n",
       "    <tr>\n",
       "      <th>Ajalvir</th>\n",
       "      <td>17</td>\n",
       "      <td>17</td>\n",
       "      <td>17</td>\n",
       "      <td>17</td>\n",
       "      <td>16</td>\n",
       "      <td>17</td>\n",
       "      <td>17</td>\n",
       "      <td>17</td>\n",
       "      <td>16</td>\n",
       "      <td>17</td>\n",
       "      <td>...</td>\n",
       "      <td>17</td>\n",
       "      <td>17</td>\n",
       "      <td>17</td>\n",
       "      <td>17</td>\n",
       "      <td>17</td>\n",
       "      <td>17</td>\n",
       "      <td>17</td>\n",
       "      <td>17</td>\n",
       "      <td>0</td>\n",
       "      <td>0</td>\n",
       "    </tr>\n",
       "    <tr>\n",
       "      <th>Alcalá de Henares</th>\n",
       "      <td>525</td>\n",
       "      <td>525</td>\n",
       "      <td>525</td>\n",
       "      <td>525</td>\n",
       "      <td>514</td>\n",
       "      <td>525</td>\n",
       "      <td>514</td>\n",
       "      <td>517</td>\n",
       "      <td>499</td>\n",
       "      <td>525</td>\n",
       "      <td>...</td>\n",
       "      <td>525</td>\n",
       "      <td>525</td>\n",
       "      <td>525</td>\n",
       "      <td>525</td>\n",
       "      <td>525</td>\n",
       "      <td>525</td>\n",
       "      <td>525</td>\n",
       "      <td>525</td>\n",
       "      <td>0</td>\n",
       "      <td>0</td>\n",
       "    </tr>\n",
       "    <tr>\n",
       "      <th>Alcobendas</th>\n",
       "      <td>259</td>\n",
       "      <td>259</td>\n",
       "      <td>259</td>\n",
       "      <td>259</td>\n",
       "      <td>256</td>\n",
       "      <td>259</td>\n",
       "      <td>250</td>\n",
       "      <td>254</td>\n",
       "      <td>256</td>\n",
       "      <td>259</td>\n",
       "      <td>...</td>\n",
       "      <td>259</td>\n",
       "      <td>259</td>\n",
       "      <td>259</td>\n",
       "      <td>259</td>\n",
       "      <td>259</td>\n",
       "      <td>259</td>\n",
       "      <td>259</td>\n",
       "      <td>259</td>\n",
       "      <td>0</td>\n",
       "      <td>0</td>\n",
       "    </tr>\n",
       "    <tr>\n",
       "      <th>Alcorcón</th>\n",
       "      <td>190</td>\n",
       "      <td>190</td>\n",
       "      <td>190</td>\n",
       "      <td>190</td>\n",
       "      <td>174</td>\n",
       "      <td>190</td>\n",
       "      <td>188</td>\n",
       "      <td>186</td>\n",
       "      <td>173</td>\n",
       "      <td>190</td>\n",
       "      <td>...</td>\n",
       "      <td>190</td>\n",
       "      <td>190</td>\n",
       "      <td>190</td>\n",
       "      <td>190</td>\n",
       "      <td>190</td>\n",
       "      <td>190</td>\n",
       "      <td>190</td>\n",
       "      <td>190</td>\n",
       "      <td>0</td>\n",
       "      <td>0</td>\n",
       "    </tr>\n",
       "    <tr>\n",
       "      <th>...</th>\n",
       "      <td>...</td>\n",
       "      <td>...</td>\n",
       "      <td>...</td>\n",
       "      <td>...</td>\n",
       "      <td>...</td>\n",
       "      <td>...</td>\n",
       "      <td>...</td>\n",
       "      <td>...</td>\n",
       "      <td>...</td>\n",
       "      <td>...</td>\n",
       "      <td>...</td>\n",
       "      <td>...</td>\n",
       "      <td>...</td>\n",
       "      <td>...</td>\n",
       "      <td>...</td>\n",
       "      <td>...</td>\n",
       "      <td>...</td>\n",
       "      <td>...</td>\n",
       "      <td>...</td>\n",
       "      <td>...</td>\n",
       "      <td>...</td>\n",
       "    </tr>\n",
       "    <tr>\n",
       "      <th>Villar del Olmo</th>\n",
       "      <td>7</td>\n",
       "      <td>7</td>\n",
       "      <td>7</td>\n",
       "      <td>7</td>\n",
       "      <td>7</td>\n",
       "      <td>7</td>\n",
       "      <td>7</td>\n",
       "      <td>7</td>\n",
       "      <td>7</td>\n",
       "      <td>7</td>\n",
       "      <td>...</td>\n",
       "      <td>7</td>\n",
       "      <td>7</td>\n",
       "      <td>7</td>\n",
       "      <td>7</td>\n",
       "      <td>7</td>\n",
       "      <td>7</td>\n",
       "      <td>7</td>\n",
       "      <td>7</td>\n",
       "      <td>0</td>\n",
       "      <td>0</td>\n",
       "    </tr>\n",
       "    <tr>\n",
       "      <th>Villarejo de Salvanés</th>\n",
       "      <td>19</td>\n",
       "      <td>19</td>\n",
       "      <td>19</td>\n",
       "      <td>19</td>\n",
       "      <td>19</td>\n",
       "      <td>19</td>\n",
       "      <td>16</td>\n",
       "      <td>16</td>\n",
       "      <td>17</td>\n",
       "      <td>19</td>\n",
       "      <td>...</td>\n",
       "      <td>19</td>\n",
       "      <td>19</td>\n",
       "      <td>19</td>\n",
       "      <td>19</td>\n",
       "      <td>19</td>\n",
       "      <td>19</td>\n",
       "      <td>19</td>\n",
       "      <td>19</td>\n",
       "      <td>0</td>\n",
       "      <td>0</td>\n",
       "    </tr>\n",
       "    <tr>\n",
       "      <th>Villaviciosa de Odón</th>\n",
       "      <td>166</td>\n",
       "      <td>166</td>\n",
       "      <td>166</td>\n",
       "      <td>166</td>\n",
       "      <td>163</td>\n",
       "      <td>166</td>\n",
       "      <td>165</td>\n",
       "      <td>166</td>\n",
       "      <td>148</td>\n",
       "      <td>166</td>\n",
       "      <td>...</td>\n",
       "      <td>166</td>\n",
       "      <td>166</td>\n",
       "      <td>166</td>\n",
       "      <td>166</td>\n",
       "      <td>166</td>\n",
       "      <td>166</td>\n",
       "      <td>166</td>\n",
       "      <td>166</td>\n",
       "      <td>0</td>\n",
       "      <td>0</td>\n",
       "    </tr>\n",
       "    <tr>\n",
       "      <th>Villavieja del Lozoya</th>\n",
       "      <td>6</td>\n",
       "      <td>6</td>\n",
       "      <td>6</td>\n",
       "      <td>6</td>\n",
       "      <td>6</td>\n",
       "      <td>6</td>\n",
       "      <td>6</td>\n",
       "      <td>6</td>\n",
       "      <td>4</td>\n",
       "      <td>6</td>\n",
       "      <td>...</td>\n",
       "      <td>6</td>\n",
       "      <td>6</td>\n",
       "      <td>6</td>\n",
       "      <td>6</td>\n",
       "      <td>6</td>\n",
       "      <td>6</td>\n",
       "      <td>6</td>\n",
       "      <td>6</td>\n",
       "      <td>0</td>\n",
       "      <td>0</td>\n",
       "    </tr>\n",
       "    <tr>\n",
       "      <th>Zarzalejo</th>\n",
       "      <td>2</td>\n",
       "      <td>2</td>\n",
       "      <td>2</td>\n",
       "      <td>1</td>\n",
       "      <td>1</td>\n",
       "      <td>2</td>\n",
       "      <td>2</td>\n",
       "      <td>2</td>\n",
       "      <td>2</td>\n",
       "      <td>2</td>\n",
       "      <td>...</td>\n",
       "      <td>2</td>\n",
       "      <td>2</td>\n",
       "      <td>2</td>\n",
       "      <td>2</td>\n",
       "      <td>2</td>\n",
       "      <td>2</td>\n",
       "      <td>2</td>\n",
       "      <td>2</td>\n",
       "      <td>0</td>\n",
       "      <td>0</td>\n",
       "    </tr>\n",
       "  </tbody>\n",
       "</table>\n",
       "<p>168 rows × 36 columns</p>\n",
       "</div>"
      ],
      "text/plain": [
       "                       Unnamed: 0  id_realEstates  isNew  realEstate_name  \\\n",
       "level5                                                                      \n",
       " Madrid Capital              6643            6643   6643             6639   \n",
       "Ajalvir                        17              17     17               17   \n",
       "Alcalá de Henares             525             525    525              525   \n",
       "Alcobendas                    259             259    259              259   \n",
       "Alcorcón                      190             190    190              190   \n",
       "...                           ...             ...    ...              ...   \n",
       "Villar del Olmo                 7               7      7                7   \n",
       "Villarejo de Salvanés          19              19     19               19   \n",
       "Villaviciosa de Odón          166             166    166              166   \n",
       "Villavieja del Lozoya           6               6      6                6   \n",
       "Zarzalejo                       2               2      2                1   \n",
       "\n",
       "                       phone_realEstate  url_inmueble  rooms  bathrooms  \\\n",
       "level5                                                                    \n",
       " Madrid Capital                    6269          6643   6472       6492   \n",
       "Ajalvir                              16            17     17         17   \n",
       "Alcalá de Henares                   514           525    514        517   \n",
       "Alcobendas                          256           259    250        254   \n",
       "Alcorcón                            174           190    188        186   \n",
       "...                                 ...           ...    ...        ...   \n",
       "Villar del Olmo                       7             7      7          7   \n",
       "Villarejo de Salvanés                19            19     16         16   \n",
       "Villaviciosa de Odón                163           166    165        166   \n",
       "Villavieja del Lozoya                 6             6      6          6   \n",
       "Zarzalejo                             1             2      2          2   \n",
       "\n",
       "                       surface  price  ...  level4Id  level5Id  level6Id  \\\n",
       "level5                                 ...                                 \n",
       " Madrid Capital           6237   6643  ...      6643      6643      6643   \n",
       "Ajalvir                     16     17  ...        17        17        17   \n",
       "Alcalá de Henares          499    525  ...       525       525       525   \n",
       "Alcobendas                 256    259  ...       259       259       259   \n",
       "Alcorcón                   173    190  ...       190       190       190   \n",
       "...                        ...    ...  ...       ...       ...       ...   \n",
       "Villar del Olmo              7      7  ...         7         7         7   \n",
       "Villarejo de Salvanés       17     19  ...        19        19        19   \n",
       "Villaviciosa de Odón       148    166  ...       166       166       166   \n",
       "Villavieja del Lozoya        4      6  ...         6         6         6   \n",
       "Zarzalejo                    2      2  ...         2         2         2   \n",
       "\n",
       "                       level7Id  level8Id  accuracy  latitude  longitude  \\\n",
       "level5                                                                     \n",
       " Madrid Capital            6643      6643      6643      6643       6643   \n",
       "Ajalvir                      17        17        17        17         17   \n",
       "Alcalá de Henares           525       525       525       525        525   \n",
       "Alcobendas                  259       259       259       259        259   \n",
       "Alcorcón                    190       190       190       190        190   \n",
       "...                         ...       ...       ...       ...        ...   \n",
       "Villar del Olmo               7         7         7         7          7   \n",
       "Villarejo de Salvanés        19        19        19        19         19   \n",
       "Villaviciosa de Odón        166       166       166       166        166   \n",
       "Villavieja del Lozoya         6         6         6         6          6   \n",
       "Zarzalejo                     2         2         2         2          2   \n",
       "\n",
       "                       zipCode  customZone  \n",
       "level5                                      \n",
       " Madrid Capital              0           0  \n",
       "Ajalvir                      0           0  \n",
       "Alcalá de Henares            0           0  \n",
       "Alcobendas                   0           0  \n",
       "Alcorcón                     0           0  \n",
       "...                        ...         ...  \n",
       "Villar del Olmo              0           0  \n",
       "Villarejo de Salvanés        0           0  \n",
       "Villaviciosa de Odón         0           0  \n",
       "Villavieja del Lozoya        0           0  \n",
       "Zarzalejo                    0           0  \n",
       "\n",
       "[168 rows x 36 columns]"
      ]
     },
     "execution_count": 27,
     "metadata": {},
     "output_type": "execute_result"
    }
   ],
   "source": [
    "dfbypopulation = df.groupby(['level5'])\n",
    "dfbypopulation.count() #La mayoría de las casas están en Madrid Capital"
   ]
  }
 ],
 "metadata": {
  "kernelspec": {
   "display_name": "Python 3.8.13 64-bit ('3.8.13')",
   "language": "python",
   "name": "python3"
  },
  "language_info": {
   "codemirror_mode": {
    "name": "ipython",
    "version": 3
   },
   "file_extension": ".py",
   "mimetype": "text/x-python",
   "name": "python",
   "nbconvert_exporter": "python",
   "pygments_lexer": "ipython3",
   "version": "3.8.13"
  },
  "vscode": {
   "interpreter": {
    "hash": "110cc1dee26208153f2972f08a2ad52b6a56238dc66d48e87fb757ef2996db56"
   }
  }
 },
 "nbformat": 4,
 "nbformat_minor": 5
}
